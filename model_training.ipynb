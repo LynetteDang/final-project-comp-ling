{
 "cells": [
  {
   "cell_type": "code",
   "execution_count": 1,
   "id": "5e05f443",
   "metadata": {},
   "outputs": [
    {
     "ename": "ModuleNotFoundError",
     "evalue": "No module named 'pandas'",
     "output_type": "error",
     "traceback": [
      "\u001b[0;31m---------------------------------------------------------------------------\u001b[0m",
      "\u001b[0;31mModuleNotFoundError\u001b[0m                       Traceback (most recent call last)",
      "Cell \u001b[0;32mIn[1], line 1\u001b[0m\n\u001b[0;32m----> 1\u001b[0m \u001b[39mimport\u001b[39;00m \u001b[39mpandas\u001b[39;00m \u001b[39mas\u001b[39;00m \u001b[39mpd\u001b[39;00m\n\u001b[1;32m      2\u001b[0m \u001b[39mimport\u001b[39;00m \u001b[39mseaborn\u001b[39;00m \u001b[39mas\u001b[39;00m \u001b[39msns\u001b[39;00m \n\u001b[1;32m      3\u001b[0m \u001b[39mimport\u001b[39;00m \u001b[39mre\u001b[39;00m\n",
      "\u001b[0;31mModuleNotFoundError\u001b[0m: No module named 'pandas'"
     ]
    }
   ],
   "source": [
    "import pandas as pd\n",
    "import seaborn as sns \n",
    "import re\n",
    "import numpy as np\n",
    "import matplotlib.pyplot as plt\n",
    "from sklearn.feature_extraction.text import TfidfVectorizer\n",
    "from sklearn.linear_model import LogisticRegression\n",
    "from sklearn.model_selection import train_test_split\n",
    "from sklearn.model_selection import GridSearchCV\n",
    "from sklearn.pipeline import Pipeline\n",
    "from sklearn.svm import SVC\n",
    "from sklearn.naive_bayes import MultinomialNB\n",
    "from sklearn.metrics import classification_report,confusion_matrix\n",
    "from sklearn.metrics import roc_curve, auc\n",
    "%matplotlib inline"
   ]
  },
  {
   "cell_type": "code",
   "execution_count": 2,
   "id": "1292b4d9",
   "metadata": {},
   "outputs": [],
   "source": [
    "data = pd.read_csv('train_with_label.csv')"
   ]
  },
  {
   "cell_type": "code",
   "execution_count": 3,
   "id": "d8c82b9c",
   "metadata": {},
   "outputs": [
    {
     "data": {
      "text/html": [
       "<div>\n",
       "<style scoped>\n",
       "    .dataframe tbody tr th:only-of-type {\n",
       "        vertical-align: middle;\n",
       "    }\n",
       "\n",
       "    .dataframe tbody tr th {\n",
       "        vertical-align: top;\n",
       "    }\n",
       "\n",
       "    .dataframe thead th {\n",
       "        text-align: right;\n",
       "    }\n",
       "</style>\n",
       "<table border=\"1\" class=\"dataframe\">\n",
       "  <thead>\n",
       "    <tr style=\"text-align: right;\">\n",
       "      <th></th>\n",
       "      <th>Title</th>\n",
       "      <th>FullDescription</th>\n",
       "    </tr>\n",
       "    <tr>\n",
       "      <th>Category</th>\n",
       "      <th></th>\n",
       "      <th></th>\n",
       "    </tr>\n",
       "  </thead>\n",
       "  <tbody>\n",
       "    <tr>\n",
       "      <th>Business/Finance</th>\n",
       "      <td>70494</td>\n",
       "      <td>70494</td>\n",
       "    </tr>\n",
       "    <tr>\n",
       "      <th>Charity/Volunteering</th>\n",
       "      <td>2332</td>\n",
       "      <td>2332</td>\n",
       "    </tr>\n",
       "    <tr>\n",
       "      <th>Consulting</th>\n",
       "      <td>3263</td>\n",
       "      <td>3263</td>\n",
       "    </tr>\n",
       "    <tr>\n",
       "      <th>Education/Research</th>\n",
       "      <td>15126</td>\n",
       "      <td>15126</td>\n",
       "    </tr>\n",
       "    <tr>\n",
       "      <th>Healthcare</th>\n",
       "      <td>21075</td>\n",
       "      <td>21076</td>\n",
       "    </tr>\n",
       "    <tr>\n",
       "      <th>Human Resources</th>\n",
       "      <td>7713</td>\n",
       "      <td>7713</td>\n",
       "    </tr>\n",
       "    <tr>\n",
       "      <th>Law</th>\n",
       "      <td>3939</td>\n",
       "      <td>3939</td>\n",
       "    </tr>\n",
       "    <tr>\n",
       "      <th>Others</th>\n",
       "      <td>53713</td>\n",
       "      <td>53713</td>\n",
       "    </tr>\n",
       "    <tr>\n",
       "      <th>Policy/Government/Social Work</th>\n",
       "      <td>3455</td>\n",
       "      <td>3455</td>\n",
       "    </tr>\n",
       "    <tr>\n",
       "      <th>Technology</th>\n",
       "      <td>63657</td>\n",
       "      <td>63657</td>\n",
       "    </tr>\n",
       "  </tbody>\n",
       "</table>\n",
       "</div>"
      ],
      "text/plain": [
       "                               Title  FullDescription\n",
       "Category                                             \n",
       "Business/Finance               70494            70494\n",
       "Charity/Volunteering            2332             2332\n",
       "Consulting                      3263             3263\n",
       "Education/Research             15126            15126\n",
       "Healthcare                     21075            21076\n",
       "Human Resources                 7713             7713\n",
       "Law                             3939             3939\n",
       "Others                         53713            53713\n",
       "Policy/Government/Social Work   3455             3455\n",
       "Technology                     63657            63657"
      ]
     },
     "execution_count": 3,
     "metadata": {},
     "output_type": "execute_result"
    }
   ],
   "source": [
    "final_data = data[['Category', 'Title', 'FullDescription']]\n",
    "final_data.groupby(by = 'Category').count()"
   ]
  },
  {
   "cell_type": "code",
   "execution_count": 4,
   "id": "3d540cba",
   "metadata": {},
   "outputs": [],
   "source": [
    "final_data = pd.concat([final_data[final_data['Category']=='Business/Finance'].sample(n=2238),\n",
    "                        final_data[final_data['Category']=='Charity/Volunteering'].sample(n=2238),\n",
    "                final_data[final_data['Category']== 'Consulting'].sample(n=2238), \n",
    "                final_data[final_data['Category']=='Education/Research'].sample(n=2238),\n",
    "                final_data[final_data['Category']=='Healthcare'].sample(n=2238),\n",
    "                final_data[final_data['Category']=='Human Resources'].sample(n=2238),\n",
    "                final_data[final_data['Category']=='Law'].sample(n=2238),\n",
    "                final_data[final_data['Category']=='Others'].sample(n=2238),\n",
    "                final_data[final_data['Category']=='Policy/Government/Social Work'].sample(n=2238),\n",
    "                final_data[final_data['Category']=='Technology'].sample(n=2238)]\n",
    "                )"
   ]
  },
  {
   "cell_type": "code",
   "execution_count": 6,
   "id": "81d65e0d",
   "metadata": {},
   "outputs": [],
   "source": [
    "def clean_text(row):\n",
    "    \n",
    "    row = re.sub(r\"n\\'t\", \" not\", row)\n",
    "    row = re.sub(r\"n\\'ll\", \" will\", row)\n",
    "    row = re.sub(r\"n\\'ve\", \" have\", row)\n",
    "    row = re.sub(r\"n\\'t\", \" not\", row)\n",
    "    row = re.sub(r\"i.e\", \" \", row)\n",
    "    row = re.sub(r\"n\\'s\", \"\", row)\n",
    "    row = re.sub(\"[^a-zA-Z]\",\" \", row)\n",
    "    white_space = re.compile(r\"\\s+\")\n",
    "    row = white_space.sub(\" \", row).strip()\n",
    "    return row "
   ]
  },
  {
   "cell_type": "code",
   "execution_count": 7,
   "id": "96bbd0fa",
   "metadata": {},
   "outputs": [],
   "source": [
    "final_data['FullDescription'] = (final_data['FullDescription']).apply(lambda row: clean_text(row))"
   ]
  },
  {
   "cell_type": "code",
   "execution_count": 8,
   "id": "f88a79bb",
   "metadata": {},
   "outputs": [
    {
     "data": {
      "text/plain": [
       "227755    NET Developer ASP NET C C NET dot NET Web Appl...\n",
       "Name: FullDescription, dtype: object"
      ]
     },
     "execution_count": 8,
     "metadata": {},
     "output_type": "execute_result"
    }
   ],
   "source": [
    "final_data['FullDescription'].tail(1)"
   ]
  },
  {
   "cell_type": "code",
   "execution_count": 9,
   "id": "f6ec0eb4",
   "metadata": {},
   "outputs": [],
   "source": [
    "final_data.reset_index(inplace = True)"
   ]
  },
  {
   "cell_type": "code",
   "execution_count": 10,
   "id": "cd3273db",
   "metadata": {},
   "outputs": [],
   "source": [
    "final_data[\"concat_text\"] = final_data.FullDescription.astype(str) + final_data.Title.astype(str)"
   ]
  },
  {
   "cell_type": "code",
   "execution_count": 11,
   "id": "c91c8dec",
   "metadata": {},
   "outputs": [],
   "source": [
    "stopwords = set(['i','l','my','it','off','means','if','you','husband','do','what','and','a','an'\n",
    "             'is','for','this','after','the','so','to','m', 'that','into','those','were','was',\n",
    "             'other','some','are','now','ry','at','serv','t','s','rece',\n",
    "             'in','don','adv','word','let','her','him','he','she','them','they','be','been',\n",
    "             've','some', 'such','qu','same','only','up','here','there','do','very','over',\n",
    "             'but','via','felt','who','whom','whose','where','how','about','just','most','has',\n",
    "             'had','have','way','back','front','let','flow','sun','del','your','move','got','air',\n",
    "              'breath', 'dude','know','mean','pan','means','mine','both','with','another','bit',\n",
    "              'clumps','needs','room','code','one','ones','f', 'em','as','n','cho','me','descr',\n",
    "              'pr','compet','re','could','would','should','even','r','out','their','n','ly','down',\n",
    "              'from','because','until','unless','while','its','about','all','any','few','too',\n",
    "              'own','itself','ppl','keep','really','got','AP','close'])\n",
    "\n",
    "vect = TfidfVectorizer(lowercase = True, stop_words = {'english'}.update(stopwords), max_df = .8, min_df = 3) \n",
    "X = vect.fit_transform(final_data.concat_text)\n",
    "y = final_data.Category"
   ]
  },
  {
   "cell_type": "code",
   "execution_count": 12,
   "id": "038b4ace",
   "metadata": {},
   "outputs": [
    {
     "name": "stdout",
     "output_type": "stream",
     "text": [
      "(22380, 18867) (22380,)\n"
     ]
    }
   ],
   "source": [
    "print(X.shape,y.shape)"
   ]
  },
  {
   "cell_type": "code",
   "execution_count": 13,
   "id": "cd2acf5b",
   "metadata": {},
   "outputs": [
    {
     "name": "stderr",
     "output_type": "stream",
     "text": [
      "/Users/lidang/opt/anaconda3/lib/python3.9/site-packages/sklearn/linear_model/_logistic.py:814: ConvergenceWarning: lbfgs failed to converge (status=1):\n",
      "STOP: TOTAL NO. of ITERATIONS REACHED LIMIT.\n",
      "\n",
      "Increase the number of iterations (max_iter) or scale the data as shown in:\n",
      "    https://scikit-learn.org/stable/modules/preprocessing.html\n",
      "Please also refer to the documentation for alternative solver options:\n",
      "    https://scikit-learn.org/stable/modules/linear_model.html#logistic-regression\n",
      "  n_iter_i = _check_optimize_result(\n"
     ]
    },
    {
     "data": {
      "text/plain": [
       "LogisticRegression(C=10)"
      ]
     },
     "execution_count": 13,
     "metadata": {},
     "output_type": "execute_result"
    }
   ],
   "source": [
    "lg = LogisticRegression() \n",
    "clf = LogisticRegression(penalty='l2',C = 10)\n",
    "train_idx, test_idx = train_test_split(np.arange(final_data.shape[0]), test_size=0.4, \n",
    "                                       shuffle=True, random_state=42)\n",
    "X_train = X[train_idx]\n",
    "Y_train = y[train_idx]\n",
    "X_test = X[test_idx]\n",
    "Y_test = y[test_idx]\n",
    "clf.fit(X_train, Y_train)"
   ]
  },
  {
   "cell_type": "code",
   "execution_count": 14,
   "id": "9d838ba6",
   "metadata": {},
   "outputs": [],
   "source": [
    "y_pred = clf.predict(X_test)"
   ]
  },
  {
   "cell_type": "code",
   "execution_count": 16,
   "id": "b47d87e8",
   "metadata": {},
   "outputs": [
    {
     "data": {
      "text/plain": [
       "array(['Consulting', 'Education/Research',\n",
       "       'Policy/Government/Social Work', ..., 'Education/Research',\n",
       "       'Education/Research', 'Others'], dtype=object)"
      ]
     },
     "execution_count": 16,
     "metadata": {},
     "output_type": "execute_result"
    }
   ],
   "source": [
    "y_pred"
   ]
  },
  {
   "cell_type": "code",
   "execution_count": 18,
   "id": "604842e7",
   "metadata": {},
   "outputs": [
    {
     "data": {
      "text/plain": [
       "14223                              Law\n",
       "3498              Charity/Volunteering\n",
       "19536    Policy/Government/Social Work\n",
       "18407    Policy/Government/Social Work\n",
       "10714                       Healthcare\n",
       "                     ...              \n",
       "1886                  Business/Finance\n",
       "8537                Education/Research\n",
       "6829                Education/Research\n",
       "10609                       Healthcare\n",
       "16694                           Others\n",
       "Name: Category, Length: 8952, dtype: object"
      ]
     },
     "execution_count": 18,
     "metadata": {},
     "output_type": "execute_result"
    }
   ],
   "source": [
    "Y_test"
   ]
  },
  {
   "cell_type": "code",
   "execution_count": 15,
   "id": "1a91d884",
   "metadata": {},
   "outputs": [
    {
     "name": "stdout",
     "output_type": "stream",
     "text": [
      "                               precision    recall  f1-score   support\n",
      "\n",
      "             Business/Finance       0.53      0.61      0.57       866\n",
      "         Charity/Volunteering       0.75      0.77      0.76       920\n",
      "                   Consulting       0.50      0.48      0.49       907\n",
      "           Education/Research       0.76      0.74      0.75       923\n",
      "                   Healthcare       0.76      0.74      0.75       905\n",
      "              Human Resources       0.77      0.75      0.76       866\n",
      "                          Law       0.96      0.92      0.94       902\n",
      "                       Others       0.57      0.56      0.56       908\n",
      "Policy/Government/Social Work       0.73      0.71      0.72       866\n",
      "                   Technology       0.70      0.74      0.72       889\n",
      "\n",
      "                     accuracy                           0.70      8952\n",
      "                    macro avg       0.70      0.70      0.70      8952\n",
      "                 weighted avg       0.70      0.70      0.70      8952\n",
      "\n"
     ]
    }
   ],
   "source": [
    "print(classification_report(Y_test, y_pred))"
   ]
  },
  {
   "cell_type": "code",
   "execution_count": 19,
   "id": "156c3599",
   "metadata": {},
   "outputs": [],
   "source": [
    "industry_pred = ['Business/Finance', 'Education/Research']\n",
    "industry = ['Business/Finance', 'Business/Finance']"
   ]
  },
  {
   "cell_type": "code",
   "execution_count": 21,
   "id": "f59a49f8",
   "metadata": {},
   "outputs": [
    {
     "name": "stdout",
     "output_type": "stream",
     "text": [
      "                    precision    recall  f1-score   support\n",
      "\n",
      "  Business/Finance       0.50      1.00      0.67         1\n",
      "Education/Research       0.00      0.00      0.00         1\n",
      "\n",
      "          accuracy                           0.50         2\n",
      "         macro avg       0.25      0.50      0.33         2\n",
      "      weighted avg       0.25      0.50      0.33         2\n",
      "\n"
     ]
    },
    {
     "name": "stderr",
     "output_type": "stream",
     "text": [
      "/Users/lidang/opt/anaconda3/lib/python3.9/site-packages/sklearn/metrics/_classification.py:1318: UndefinedMetricWarning: Precision and F-score are ill-defined and being set to 0.0 in labels with no predicted samples. Use `zero_division` parameter to control this behavior.\n",
      "  _warn_prf(average, modifier, msg_start, len(result))\n",
      "/Users/lidang/opt/anaconda3/lib/python3.9/site-packages/sklearn/metrics/_classification.py:1318: UndefinedMetricWarning: Precision and F-score are ill-defined and being set to 0.0 in labels with no predicted samples. Use `zero_division` parameter to control this behavior.\n",
      "  _warn_prf(average, modifier, msg_start, len(result))\n",
      "/Users/lidang/opt/anaconda3/lib/python3.9/site-packages/sklearn/metrics/_classification.py:1318: UndefinedMetricWarning: Precision and F-score are ill-defined and being set to 0.0 in labels with no predicted samples. Use `zero_division` parameter to control this behavior.\n",
      "  _warn_prf(average, modifier, msg_start, len(result))\n"
     ]
    }
   ],
   "source": [
    "print(classification_report(industry_pred, industry))"
   ]
  }
 ],
 "metadata": {
  "kernelspec": {
   "display_name": "Python 3",
   "language": "python",
   "name": "python3"
  },
  "language_info": {
   "codemirror_mode": {
    "name": "ipython",
    "version": 3
   },
   "file_extension": ".py",
   "mimetype": "text/x-python",
   "name": "python",
   "nbconvert_exporter": "python",
   "pygments_lexer": "ipython3",
   "version": "3.9.7"
  },
  "vscode": {
   "interpreter": {
    "hash": "66d5681e9b1a30c54e2b72bede8e639bf5aa12ed7b56d7c736beb4383827a459"
   }
  }
 },
 "nbformat": 4,
 "nbformat_minor": 5
}
