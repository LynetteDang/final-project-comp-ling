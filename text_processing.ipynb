{
 "cells": [
  {
   "cell_type": "code",
   "execution_count": 129,
   "id": "338b00e3",
   "metadata": {},
   "outputs": [],
   "source": [
    "import re\n",
    "import pandas as pd"
   ]
  },
  {
   "cell_type": "markdown",
   "id": "c018f5c4",
   "metadata": {},
   "source": [
    "# Take a sample from all scraped result"
   ]
  },
  {
   "cell_type": "code",
   "execution_count": 91,
   "id": "73fe73d7",
   "metadata": {},
   "outputs": [
    {
     "data": {
      "text/plain": [
       "'\"\\\\n\\\\n\\\\n\\\\n\\\\n\\\\n\\\\n\\\\n\\\\n\\\\n\\\\n\\\\n\\\\n\\\\n\\\\n\\\\n\\\\n\\\\ncreator modecreator mode\\\\n\\\\n\\\\nonon\\\\n\\\\n \\\\n\\\\nget discovered, showcase content on your profile, and get access to creator toolsget discovered, showcase content on your profile, and get access to creator tools\\\\n\\\\n \\\\n\\\\n\\\\n \\\\n\\\\n \\\\n\\\\n\\\\n\\\\n\\\\n\\\\n\\\\n\\\\n\\\\n\\\\n\\\\n\\\\n\\\\n\\\\n\\\\n\\\\n\\\\n\\\\n\\\\n\\\\nmy networkmy network\\\\n\\\\n \\\\n\\\\nsee and manage your connections and interests.see and manage your connections and interests.\\\\n\\\\n \\\\n\\\\n\\\\n \\\\n\\\\n \\\\n\\\\n\\\\n\\\\n\\\\n\\\\n\\\\n\\\\n\\\\n\\\\n\\\\n\\\\n\\\\n\\\\nyou haven\\'t posted latelyyou haven\\'t posted lately\\\\n\\\\n \\\\n\\\\nrecent posts you share or comment on will be displayed hererecent posts you share or comment on will be displayed here\\\\n\\\\n\\\\n\\\\n\\\\n\\\\n \\\\n\\\\n \\\\n\\\\n\\\\n\\\\n\\\\n\\\\n\\\\n\\\\n \\\\n\\\\n\\\\n\\\\n\\\\n\\\\n\\\\n\\\\n\\\\n\\\\nweb developerweb developer\\\\n\\\\n \\\\n\\\\ninstitute for population and precision health at the university of chicago ¬∑ part-timeinstitute for population and precision health at the university of chicago ¬∑ part-time\\\\n\\\\n\\\\nsep 2021 - present ¬∑ 1 yr 5 mossep 2021 - present ¬∑ 1 yr 5 mos\\\\n\\\\n\\\\nchicago, illinois, united stateschicago, illinois, united states\\\\n\\\\n\\\\n\\\\n\\\\n \\\\n\\\\n\\\\n \\\\n\\\\n\\\\n \\\\n\\\\n\\\\n\\\\n\\\\n\\\\nassist in building next-generation research participant management system, using python, django, sql, and awsassist in building next-generation research participant management system, using python, django, sql, and aws\\\\n\\\\n\\\\n\\\\n\\\\n\\\\n\\\\n\\\\n\\\\n\\\\n\\\\n\\\\n\\\\n\\\\n\\\\n\\\\n\\\\n\\\\n\\\\n \\\\n\\\\n\\\\n\\\\n\\\\n\\\\n\\\\n\\\\n\\\\n\\\\nbusiness analyst internbusiness analyst intern\\\\n\\\\n \\\\n\\\\nastellas pharma us ¬∑ internshipastellas pharma us ¬∑ internship\\\\n\\\\n\\\\njun 2022 - sep 2022 ¬∑ 4 mosjun 2022 - sep 2022 ¬∑ 4 mos\\\\n\\\\n\\\\nnorthbrook, illinois, united statesnorthbrook, illinois, united states\\\\n\\\\n\\\\n\\\\n\\\\n \\\\n\\\\n\\\\n \\\\n\\\\n\\\\n \\\\n\\\\n\\\\n\\\\n\\\\n\\\\nthe ci business & market analytics intern is a position responsible for supporting business and market analytics (bama) in researching and collecting information on multiple markets. responsibilities include working with multiple datasets to identify differences in the data to change market definitions, assembling and presenting information about in-line and pipeline products in order to support business objectivesthe ci business & market analytics intern is a position responsible for supporting business and market analytics (bama) in researching and collecting information on multiple markets. responsibilities include working with multiple datasets to identify differences in the data to change market definitions, assembling and presenting information about in-line and pipeline products in order to support business objectives\\\\n\\\\n\\\\n\\\\n\\\\n\\\\n\\\\n\\\\n\\\\n\\\\n\\\\n \\\\n\\\\n\\\\n\\\\n\\\\n\\\\nskills: python (programming language) ¬∑ microsoft excel ¬∑ data analysis ¬∑ sqlskills: python (programming language) ¬∑ microsoft excel ¬∑ data analysis ¬∑ sql\\\\n\\\\n\\\\n\\\\n\\\\n\\\\n\\\\n\\\\n\\\\n\\\\n\\\\n\\\\n\\\\n\\\\n\\\\n\\\\n\\\\n\\\\n\\\\n \\\\n\\\\n\\\\n\\\\n\\\\n\\\\n\\\\n\\\\n\\\\n\\\\nsoftware engineersoftware engineer\\\\n\\\\n \\\\n\\\\nfractracker alliance ¬∑ seasonalfractracker alliance ¬∑ seasonal\\\\n\\\\n\\\\nsep 2021 - dec 2021 ¬∑ 4 mossep 2021 - dec 2021 ¬∑ 4 mos\\\\n\\\\n\\\\nchicago, illinois, united stateschicago, illinois, united states\\\\n\\\\n\\\\n\\\\n\\\\n \\\\n\\\\n\\\\n \\\\n\\\\n\\\\n \\\\n\\\\n\\\\n\\\\n\\\\n\\\\n-this project is a collaboration among the university of chicago\\'s data science institute, fractracker alliance and the 11th hour project. -helped fractracker alliance, a non-profit organization addressing pressing extraction-related concerns with a lens toward health effects and exposure risks on communities from oil and gas development, to add a new feature to the app permitting users to submit reports as official complaints to the appropriate state agencies. -built a set of scripts that run nightly to (1) query the fractracker internal api for fracking reports, (2) route each report to the corresponding state agency, and (3) submit the required data through either an automated email or webdriver tool such as selenium. our scripts will be deployed to google cloud platform (gcp)-this project is a collaboration among the university of chicago\\'s data science institute, fractracker alliance and the 11th hour project. \\\\n-helped fractracker alliance, a non-profit organization addressing pressing extraction-related concerns with a lens toward health effects and exposure risks on communities from oil and gas development, to add a new feature to the app permitting users to submit reports as official complaints to the appropriate state agencies. \\\\n-built a set of scripts that run nightly to (1) query the fractracker internal api for fracking reports, (2) route each report to the corresponding state agency, and (3) submit the required data through either an automated email or webdriver tool such as selenium. our scripts will be deployed to google cloud platform (gcp)\\\\n\\\\n\\\\n\\\\n\\\\n\\\\n\\\\n\\\\n\\\\n\\\\n\\\\n \\\\n\\\\n\\\\n\\\\n\\\\n\\\\n\\\\n\\\\n\\\\n\\\\n\\\\n\\\\n\\\\n\\\\n\\\\n \\\\n\\\\n\\\\n\\\\n\\\\nfractracker final presentation (12.10.21).mp4fractracker final presentation (12.10.21).mp4\\\\n\\\\n \\\\n\\\\n\\\\n\\\\n\\\\n\\\\n\\\\n\\\\n\\\\n\\\\n\\\\n\\\\n\\\\n\\\\n\\\\n\\\\n\\\\n \\\\n\\\\n\\\\n\\\\n\\\\n\\\\n\\\\n\\\\n\\\\n\\\\nassistant project coordinatorassistant project coordinator\\\\n\\\\n \\\\n\\\\nuniversity of california, san diego - jacobs school of engineering ¬∑ part-timeuniversity of california, san diego - jacobs school of engineering ¬∑ part-time\\\\n\\\\n\\\\njul 2021 - sep 2021 ¬∑ 3 mosjul 2021 - sep 2021 ¬∑ 3 mos\\\\n\\\\n\\\\nsan diego, california, united statessan diego, california, united states\\\\n\\\\n\\\\n\\\\n\\\\n \\\\n\\\\n\\\\n \\\\n\\\\n\\\\n \\\\n\\\\n\\\\n\\\\n\\\\n\\\\ndevelop and deploy educational software and computer-programming projects and activities in matlab, implement an email automation system using google app script/qualtrics, conduct educational research using data analysis, impact assessment, and conference presentations for publication purposesdevelop and deploy educational software and computer-programming projects and activities in matlab, implement an email automation system using google app script/qualtrics, conduct educational research using data analysis, impact assessment, and conference presentations for publication purposes\\\\n\\\\n\\\\n\\\\n\\\\n\\\\n\\\\n\\\\n\\\\n\\\\n\\\\n\\\\n\\\\n\\\\n\\\\n\\\\n\\\\n\\\\n\\\\n \\\\n\\\\n\\\\n\\\\n\\\\n\\\\n\\\\n\\\\n\\\\n\\\\nresearch assistantresearch assistant\\\\n\\\\n \\\\n\\\\nuc san diego school of global policy and strategy (gps) ¬∑ part-timeuc san diego school of global policy and strategy (gps) ¬∑ part-time\\\\n\\\\n\\\\njun 2021 - sep 2021 ¬∑ 4 mosjun 2021 - sep 2021 ¬∑ 4 mos\\\\n\\\\n\\\\nsan diego, california, united statessan diego, california, united states\\\\n\\\\n\\\\n\\\\n\\\\n \\\\n\\\\n\\\\n \\\\n\\\\n\\\\n \\\\n\\\\n\\\\n\\\\n\\\\n\\\\nwork directly with postdoc christina cottiero, professor stephan haggard (pi), professor christina  schneider and professor lauren prather to collect data on election observation missions sent by authoritarian international organizations to member state elections in africa and central asia in forms of web/pdf scrapping, present findings using data visualizationwork directly with postdoc christina cottiero, professor stephan haggard (pi), professor christina  schneider and professor lauren prather to collect data on election observation missions sent by authoritarian international organizations to member state elections in africa and central asia in forms of web/pdf scrapping, present findings using data visualization\\\\n\\\\n\\\\n\\\\n\\\\n\\\\n\\\\n\\\\n\\\\n\\\\n\\\\n\\\\n\\\\n\\\\n\\\\n\\\\n\\\\n\\\\n\\\\n \\\\n\\\\n\\\\n\\\\n\\\\n\\\\n\\\\n\\\\n\\\\n\\\\nuniversity of chicagouniversity of chicago\\\\n\\\\n \\\\n\\\\nmaster of arts - ma, computational social sciencemaster of arts - ma, computational social science\\\\n\\\\n\\\\n2021 - 20232021 - 2023\\\\n\\\\n \\\\n\\\\n\\\\n \\\\n\\\\n\\\\n \\\\n\\\\n\\\\n \\\\n\\\\n\\\\n\\\\n\\\\n\\\\nawarded with maroon scholar research award scholarship (1/2 scholarship)gpa: 3.83/4.00awarded with maroon scholar research award scholarship (1/2 scholarship)\\\\ngpa: 3.83/4.00\\\\n\\\\n\\\\n\\\\n\\\\n\\\\n\\\\n\\\\n\\\\n\\\\n\\\\n\\\\n\\\\n\\\\n\\\\n\\\\n\\\\n\\\\n\\\\n \\\\n\\\\n\\\\n\\\\n\\\\n\\\\n\\\\n\\\\n\\\\n\\\\nuc san diegouc san diego\\\\n\\\\n \\\\n\\\\nbachelor of science - bs, mathematics‚Äìscientific computation and\\\\xa0political science‚Äìdata analyticsbachelor of science - bs, mathematics‚Äìscientific computation and\\\\xa0political science‚Äìdata analytics\\\\n\\\\n\\\\n2017 - 20212017 - 2021\\\\n\\\\n \\\\n\\\\n\\\\n \\\\n\\\\n\\\\n \\\\n\\\\n\\\\n \\\\n\\\\n\\\\n\\\\nactivities and societies: pi sigma alpha (national political science honor society) | sums (society of undergraduate mathematics students) | acamazing (ucsd-based co-ed a capella group) activities and societies: pi sigma alpha (national political science honor society) | sums (society of undergraduate mathematics students) | acamazing (ucsd-based co-ed a capella group) \\\\n\\\\n\\\\n\\\\n\\\\n\\\\n\\\\n\\\\n\\\\n \\\\n\\\\n\\\\n\\\\n\\\\n\\\\nmath major gpa: 3.900;political science gpa: 4.000; cumulative gpa: 3.775graduated with cum laude;graduated with highest honor in the field of political science;arend lijphart award for best overall performance (2020 - 2021);marshall college awards 2021;marshall college citizen cord recipient; marshall college provost honor for research excellence;marshall college dimension of culture program (doc) research project contest finalist (top 1%)math major gpa: 3.900;\\\\npolitical science gpa: 4.000; \\\\ncumulative gpa: 3.775\\\\ngraduated with cum laude;\\\\ngraduated with highest honor in the field of political science;\\\\narend lijphart award for best overall performance (2020 - 2021);\\\\nmarshall college awards 2021;\\\\nmarshall college citizen cord recipient; \\\\nmarshall college provost honor for research excellence;\\\\nmarshall college dimension of culture program (doc) research project contest finalist (top 1%)\\\\n\\\\n\\\\n\\\\n\\\\n\\\\n\\\\n\\\\n\\\\n\\\\n\\\\n \\\\n\\\\n\\\\n\\\\n\\\\n\\\\n\\\\n\\\\n\\\\n\\\\n\\\\n \\\\n\\\\n\\\\n\\\\n\\\\nsenior honors thesissenior honors thesis\\\\n\\\\n\\\\n\\\\n\\\\n\\\\nattached is my senior honor thesis submitted to ucsd‚Äôs department of political science. i received highest honor and arend lijphart award for the best overall performance.attached is my senior honor thesis submitted to ucsd‚Äôs department of political science. i received highest honor and arend lijphart award for the best overall performance.\\\\n\\\\n\\\\n\\\\n\\\\n\\\\n\\\\n\\\\n\\\\n\\\\n\\\\n\\\\n\\\\n\\\\n\\\\n\\\\n\\\\n\\\\n\\\\n\\\\n\\\\n\\\\n \\\\n\\\\n\\\\n\\\\n\\\\n\\\\n\\\\n\\\\n\\\\n\\\\nstevenson schoolstevenson school\\\\n\\\\n \\\\n\\\\nhigh schoolhigh school\\\\n\\\\n\\\\n2013 - 20172013 - 2017\\\\n\\\\n \\\\n\\\\n\\\\n \\\\n\\\\n\\\\n \\\\n\\\\n\\\\n \\\\n\\\\n\\\\n\\\\ngrade: 9-12grade: 9-12\\\\n\\\\n\\\\n\\\\n\\\\n\\\\n\\\\n\\\\n\\\\n \\\\n\\\\n\\\\n\\\\nactivities and societies: mentor head of green key student ambassador program | captain of varsity cross country (mvp of 2016-2017) | varsity track & field / lacrosse | jazz choir / contemporary acapella choir / chamber choir | member of california all-state honor choir and california choral leadership academyactivities and societies: mentor head of green key student ambassador program | \\\\ncaptain of varsity cross country (mvp of 2016-2017) | \\\\nvarsity track & field / lacrosse | \\\\njazz choir / contemporary acapella choir / chamber choir | \\\\nmember of california all-state honor choir and california choral leadership academy\\\\n\\\\n\\\\n\\\\n\\\\n\\\\n\\\\n\\\\n\\\\n \\\\n\\\\n\\\\n\\\\n\\\\n\\\\ngraduated with faculty honorÔºõcumulative gpa: 4.01graduated with faculty honorÔºõ\\\\ncumulative gpa: 4.01\\\\n\\\\n\\\\n\\\\n\\\\n\\\\n\\\\n\\\\n\\\\n\\\\n\\\\n\\\\n\\\\n\\\\n\\\\n\\\\n\\\\n\\\\n\\\\n \\\\n\\\\n\\\\n\\\\n\\\\n\\\\n\\\\n\\\\n\\\\n\\\\nsocial & behavioral researchsocial & behavioral research\\\\n\\\\n \\\\n\\\\nciti programciti program\\\\n\\\\n\\\\nissued dec 2020 ¬∑ expires dec 2023issued dec 2020 ¬∑ expires dec 2023\\\\n\\\\n\\\\ncredential id 40079207credential id 40079207\\\\n\\\\n\\\\n\\\\n\\\\n \\\\n\\\\n\\\\n \\\\n\\\\n\\\\n\\\\n \\\\n        show credential\\\\n      \\\\n\\\\n\\\\n\\\\n\\\\n\\\\n\\\\n\\\\n\\\\n\\\\n\\\\n\\\\n\\\\n\\\\n\\\\n\\\\n\\\\n\\\\n\\\\n\\\\n\\\\n\\\\n\\\\n\\\\n\\\\nuser experience design (ued)user experience design (ued)\\\\n\\\\n \\\\n \\\\n\\\\n\\\\n \\\\n\\\\n\\\\n\\\\n\\\\n\\\\n\\\\n\\\\n\\\\n\\\\n\\\\n\\\\n\\\\n\\\\n\\\\n\\\\n\\\\n\\\\npython (programming language)python (programming language)\\\\n\\\\n \\\\n \\\\n\\\\n\\\\n \\\\n\\\\n\\\\n \\\\n\\\\n\\\\n\\\\n\\\\n\\\\n\\\\n \\\\n\\\\n\\\\n\\\\n\\\\n\\\\n\\\\n\\\\n\\\\nbusiness analyst intern at astellas pharma usbusiness analyst intern at astellas pharma us\\\\n\\\\n\\\\n\\\\n\\\\n\\\\n\\\\n\\\\n\\\\n\\\\n\\\\n\\\\n\\\\n\\\\n\\\\n\\\\n\\\\n\\\\n\\\\n\\\\n\\\\n\\\\n\\\\ncustomer servicecustomer service\\\\n\\\\n \\\\n \\\\n\\\\n\\\\n \\\\n\\\\n\\\\n \\\\n\\\\n\\\\n\\\\n\\\\n\\\\n\\\\n\\\\n\\\\n\\\\n\\\\n\\\\n\\\\n\\\\n\\\\n\\\\n\\\\n1 endorsement1 endorsement\\\\n\\\\n\\\\n\\\\n\\\\n\\\\n\\\\n\\\\n\\\\n\\\\n\"\"'"
      ]
     },
     "execution_count": 91,
     "metadata": {},
     "output_type": "execute_result"
    }
   ],
   "source": [
    "sample = pd.read_excel('sample copy.xlsx')\n",
    "text = sample.columns[7]\n",
    "text"
   ]
  },
  {
   "cell_type": "markdown",
   "id": "a7d6215b",
   "metadata": {},
   "source": [
    "## General Processing"
   ]
  },
  {
   "cell_type": "code",
   "execution_count": 92,
   "id": "437b3fc4",
   "metadata": {},
   "outputs": [
    {
     "data": {
      "text/plain": [
       "'web developerweb developer\\\\n\\\\n \\\\n\\\\ninstitute for population and precision health at the university of chicago ¬∑ part-timeinstitute for population and precision health at the university of chicago ¬∑ part-time\\\\n\\\\n\\\\nsep 2021 - present ¬∑ 1 yr 5 mossep 2021 - present ¬∑ 1 yr 5 mos\\\\n\\\\n\\\\nchicago, illinois, united stateschicago, illinois, united states\\\\n\\\\n\\\\n\\\\n\\\\n \\\\n\\\\n\\\\n \\\\n\\\\n\\\\n \\\\n\\\\n\\\\n\\\\n\\\\n\\\\nassist in building next-generation research participant management system, using python, django, sql, and awsassist in building next-generation research participant management system, using python, django, sql, and aws\\\\n\\\\n\\\\n\\\\n\\\\n\\\\n\\\\n\\\\n\\\\n\\\\n\\\\n\\\\n\\\\n\\\\n\\\\n\\\\n\\\\n\\\\n\\\\n \\\\n\\\\n\\\\n\\\\n\\\\n\\\\n\\\\n\\\\n\\\\n\\\\nbusiness analyst internbusiness analyst intern\\\\n\\\\n \\\\n\\\\nastellas pharma us ¬∑ internshipastellas pharma us ¬∑ internship\\\\n\\\\n\\\\njun 2022 - sep 2022 ¬∑ 4 mosjun 2022 - sep 2022 ¬∑ 4 mos\\\\n\\\\n\\\\nnorthbrook, illinois, united statesnorthbrook, illinois, united states\\\\n\\\\n\\\\n\\\\n\\\\n \\\\n\\\\n\\\\n \\\\n\\\\n\\\\n \\\\n\\\\n\\\\n\\\\n\\\\n\\\\nthe ci business & market analytics intern is a position responsible for supporting business and market analytics (bama) in researching and collecting information on multiple markets. responsibilities include working with multiple datasets to identify differences in the data to change market definitions, assembling and presenting information about in-line and pipeline products in order to support business objectivesthe ci business & market analytics intern is a position responsible for supporting business and market analytics (bama) in researching and collecting information on multiple markets. responsibilities include working with multiple datasets to identify differences in the data to change market definitions, assembling and presenting information about in-line and pipeline products in order to support business objectives\\\\n\\\\n\\\\n\\\\n\\\\n\\\\n\\\\n\\\\n\\\\n\\\\n\\\\n \\\\n\\\\n\\\\n\\\\n\\\\n\\\\nskills: python (programming language) ¬∑ microsoft excel ¬∑ data analysis ¬∑ sqlskills: python (programming language) ¬∑ microsoft excel ¬∑ data analysis ¬∑ sql\\\\n\\\\n\\\\n\\\\n\\\\n\\\\n\\\\n\\\\n\\\\n\\\\n\\\\n\\\\n\\\\n\\\\n\\\\n\\\\n\\\\n\\\\n\\\\n \\\\n\\\\n\\\\n\\\\n\\\\n\\\\n\\\\n\\\\n\\\\n\\\\nsoftware engineersoftware engineer\\\\n\\\\n \\\\n\\\\nfractracker alliance ¬∑ seasonalfractracker alliance ¬∑ seasonal\\\\n\\\\n\\\\nsep 2021 - dec 2021 ¬∑ 4 mossep 2021 - dec 2021 ¬∑ 4 mos\\\\n\\\\n\\\\nchicago, illinois, united stateschicago, illinois, united states\\\\n\\\\n\\\\n\\\\n\\\\n \\\\n\\\\n\\\\n \\\\n\\\\n\\\\n \\\\n\\\\n\\\\n\\\\n\\\\n\\\\n-this project is a collaboration among the university of chicago\\'s data science institute, fractracker alliance and the 11th hour project. -helped fractracker alliance, a non-profit organization addressing pressing extraction-related concerns with a lens toward health effects and exposure risks on communities from oil and gas development, to add a new feature to the app permitting users to submit reports as official complaints to the appropriate state agencies. -built a set of scripts that run nightly to (1) query the fractracker internal api for fracking reports, (2) route each report to the corresponding state agency, and (3) submit the required data through either an automated email or webdriver tool such as selenium. our scripts will be deployed to google cloud platform (gcp)-this project is a collaboration among the university of chicago\\'s data science institute, fractracker alliance and the 11th hour project. \\\\n-helped fractracker alliance, a non-profit organization addressing pressing extraction-related concerns with a lens toward health effects and exposure risks on communities from oil and gas development, to add a new feature to the app permitting users to submit reports as official complaints to the appropriate state agencies. \\\\n-built a set of scripts that run nightly to (1) query the fractracker internal api for fracking reports, (2) route each report to the corresponding state agency, and (3) submit the required data through either an automated email or webdriver tool such as selenium. our scripts will be deployed to google cloud platform (gcp)\\\\n\\\\n\\\\n\\\\n\\\\n\\\\n\\\\n\\\\n\\\\n\\\\n\\\\n \\\\n\\\\n\\\\n\\\\n\\\\n\\\\n\\\\n\\\\n\\\\n\\\\n\\\\n\\\\n\\\\n\\\\n\\\\n \\\\n\\\\n\\\\n\\\\n\\\\nfractracker final presentation (12.10.21).mp4fractracker final presentation (12.10.21).mp4\\\\n\\\\n \\\\n\\\\n\\\\n\\\\n\\\\n\\\\n\\\\n\\\\n\\\\n\\\\n\\\\n\\\\n\\\\n\\\\n\\\\n\\\\n\\\\n \\\\n\\\\n\\\\n\\\\n\\\\n\\\\n\\\\n\\\\n\\\\n\\\\nassistant project coordinatorassistant project coordinator\\\\n\\\\n \\\\n\\\\nuniversity of california, san diego - jacobs school of engineering ¬∑ part-timeuniversity of california, san diego - jacobs school of engineering ¬∑ part-time\\\\n\\\\n\\\\njul 2021 - sep 2021 ¬∑ 3 mosjul 2021 - sep 2021 ¬∑ 3 mos\\\\n\\\\n\\\\nsan diego, california, united statessan diego, california, united states\\\\n\\\\n\\\\n\\\\n\\\\n \\\\n\\\\n\\\\n \\\\n\\\\n\\\\n \\\\n\\\\n\\\\n\\\\n\\\\n\\\\ndevelop and deploy educational software and computer-programming projects and activities in matlab, implement an email automation system using google app script/qualtrics, conduct educational research using data analysis, impact assessment, and conference presentations for publication purposesdevelop and deploy educational software and computer-programming projects and activities in matlab, implement an email automation system using google app script/qualtrics, conduct educational research using data analysis, impact assessment, and conference presentations for publication purposes\\\\n\\\\n\\\\n\\\\n\\\\n\\\\n\\\\n\\\\n\\\\n\\\\n\\\\n\\\\n\\\\n\\\\n\\\\n\\\\n\\\\n\\\\n\\\\n \\\\n\\\\n\\\\n\\\\n\\\\n\\\\n\\\\n\\\\n\\\\n\\\\nresearch assistantresearch assistant\\\\n\\\\n \\\\n\\\\nuc san diego school of global policy and strategy (gps) ¬∑ part-timeuc san diego school of global policy and strategy (gps) ¬∑ part-time\\\\n\\\\n\\\\njun 2021 - sep 2021 ¬∑ 4 mosjun 2021 - sep 2021 ¬∑ 4 mos\\\\n\\\\n\\\\nsan diego, california, united statessan diego, california, united states\\\\n\\\\n\\\\n\\\\n\\\\n \\\\n\\\\n\\\\n \\\\n\\\\n\\\\n \\\\n\\\\n\\\\n\\\\n\\\\n\\\\nwork directly with postdoc christina cottiero, professor stephan haggard (pi), professor christina  schneider and professor lauren prather to collect data on election observation missions sent by authoritarian international organizations to member state elections in africa and central asia in forms of web/pdf scrapping, present findings using data visualizationwork directly with postdoc christina cottiero, professor stephan haggard (pi), professor christina  schneider and professor lauren prather to collect data on election observation missions sent by authoritarian international organizations to member state elections in africa and central asia in forms of web/pdf scrapping, present findings using data visualization\\\\n\\\\n\\\\n\\\\n\\\\n\\\\n\\\\n\\\\n\\\\n\\\\n\\\\n\\\\n\\\\n\\\\n\\\\n\\\\n\\\\n\\\\n\\\\n \\\\n\\\\n\\\\n\\\\n\\\\n\\\\n\\\\n\\\\n\\\\n\\\\nuniversity of chicagouniversity of chicago\\\\n\\\\n \\\\n\\\\nmaster of arts - ma, computational social sciencemaster of arts - ma, computational social science\\\\n\\\\n\\\\n2021 - 20232021 - 2023\\\\n\\\\n \\\\n\\\\n\\\\n \\\\n\\\\n\\\\n \\\\n\\\\n\\\\n \\\\n\\\\n\\\\n\\\\n\\\\n\\\\nawarded with maroon scholar research award scholarship (1/2 scholarship)gpa: 3.83/4.00awarded with maroon scholar research award scholarship (1/2 scholarship)\\\\ngpa: 3.83/4.00\\\\n\\\\n\\\\n\\\\n\\\\n\\\\n\\\\n\\\\n\\\\n\\\\n\\\\n\\\\n\\\\n\\\\n\\\\n\\\\n\\\\n\\\\n\\\\n \\\\n\\\\n\\\\n\\\\n\\\\n\\\\n\\\\n\\\\n\\\\n\\\\nuc san diegouc san diego\\\\n\\\\n \\\\n\\\\nbachelor of science - bs, mathematics‚Äìscientific computation and\\\\xa0political science‚Äìdata analyticsbachelor of science - bs, mathematics‚Äìscientific computation and\\\\xa0political science‚Äìdata analytics\\\\n\\\\n\\\\n2017 - 20212017 - 2021\\\\n\\\\n \\\\n\\\\n\\\\n \\\\n\\\\n\\\\n \\\\n\\\\n\\\\n \\\\n\\\\n\\\\n\\\\nactivities and societies: pi sigma alpha (national political science honor society) | sums (society of undergraduate mathematics students) | acamazing (ucsd-based co-ed a capella group) activities and societies: pi sigma alpha (national political science honor society) | sums (society of undergraduate mathematics students) | acamazing (ucsd-based co-ed a capella group) \\\\n\\\\n\\\\n\\\\n\\\\n\\\\n\\\\n\\\\n\\\\n \\\\n\\\\n\\\\n\\\\n\\\\n\\\\nmath major gpa: 3.900;political science gpa: 4.000; cumulative gpa: 3.775graduated with cum laude;graduated with highest honor in the field of political science;arend lijphart award for best overall performance (2020 - 2021);marshall college awards 2021;marshall college citizen cord recipient; marshall college provost honor for research excellence;marshall college dimension of culture program (doc) research project contest finalist (top 1%)math major gpa: 3.900;\\\\npolitical science gpa: 4.000; \\\\ncumulative gpa: 3.775\\\\ngraduated with cum laude;\\\\ngraduated with highest honor in the field of political science;\\\\narend lijphart award for best overall performance (2020 - 2021);\\\\nmarshall college awards 2021;\\\\nmarshall college citizen cord recipient; \\\\nmarshall college provost honor for research excellence;\\\\nmarshall college dimension of culture program (doc) research project contest finalist (top 1%)\\\\n\\\\n\\\\n\\\\n\\\\n\\\\n\\\\n\\\\n\\\\n\\\\n\\\\n \\\\n\\\\n\\\\n\\\\n\\\\n\\\\n\\\\n\\\\n\\\\n\\\\n\\\\n \\\\n\\\\n\\\\n\\\\n\\\\nsenior honors thesissenior honors thesis\\\\n\\\\n\\\\n\\\\n\\\\n\\\\nattached is my senior honor thesis submitted to ucsd‚Äôs department of political science. i received highest honor and arend lijphart award for the best overall performance.attached is my senior honor thesis submitted to ucsd‚Äôs department of political science. i received highest honor and arend lijphart award for the best overall performance.\\\\n\\\\n\\\\n\\\\n\\\\n\\\\n\\\\n\\\\n\\\\n\\\\n\\\\n\\\\n\\\\n\\\\n\\\\n\\\\n\\\\n\\\\n\\\\n\\\\n\\\\n\\\\n \\\\n\\\\n\\\\n\\\\n\\\\n\\\\n\\\\n\\\\n\\\\n\\\\nstevenson schoolstevenson school\\\\n\\\\n \\\\n\\\\nhigh schoolhigh school\\\\n\\\\n\\\\n2013 - 20172013 - 2017\\\\n\\\\n \\\\n\\\\n\\\\n \\\\n\\\\n\\\\n \\\\n\\\\n\\\\n \\\\n\\\\n\\\\n\\\\ngrade: 9-12grade: 9-12\\\\n\\\\n\\\\n\\\\n\\\\n\\\\n\\\\n\\\\n\\\\n \\\\n\\\\n\\\\n\\\\nactivities and societies: mentor head of green key student ambassador program | captain of varsity cross country (mvp of 2016-2017) | varsity track & field / lacrosse | jazz choir / contemporary acapella choir / chamber choir | member of california all-state honor choir and california choral leadership academyactivities and societies: mentor head of green key student ambassador program | \\\\ncaptain of varsity cross country (mvp of 2016-2017) | \\\\nvarsity track & field / lacrosse | \\\\njazz choir / contemporary acapella choir / chamber choir | \\\\nmember of california all-state honor choir and california choral leadership academy\\\\n\\\\n\\\\n\\\\n\\\\n\\\\n\\\\n\\\\n\\\\n \\\\n\\\\n\\\\n\\\\n\\\\n\\\\ngraduated with faculty honorÔºõcumulative gpa: 4.01graduated with faculty honorÔºõ\\\\ncumulative gpa: 4.01\\\\n\\\\n\\\\n\\\\n\\\\n\\\\n\\\\n\\\\n\\\\n\\\\n\\\\n\\\\n\\\\n\\\\n\\\\n\\\\n\\\\n\\\\n\\\\n \\\\n\\\\n\\\\n\\\\n\\\\n\\\\n\\\\n\\\\n\\\\n\\\\nsocial & behavioral researchsocial & behavioral research\\\\n\\\\n \\\\n\\\\nciti programciti program\\\\n\\\\n\\\\nissued dec 2020 ¬∑ expires dec 2023issued dec 2020 ¬∑ expires dec 2023\\\\n\\\\n\\\\ncredential id 40079207credential id 40079207\\\\n\\\\n\\\\n\\\\n\\\\n \\\\n\\\\n\\\\n \\\\n\\\\n\\\\n\\\\n \\\\n        show credential\\\\n      \\\\n\\\\n\\\\n\\\\n\\\\n\\\\n\\\\n\\\\n\\\\n\\\\n\\\\n\\\\n\\\\n\\\\n\\\\n\\\\n\\\\n\\\\n\\\\n\\\\n\\\\n\\\\n\\\\n\\\\n\\\\nuser experience design (ued)user experience design (ued)\\\\n\\\\n \\\\n \\\\n\\\\n\\\\n \\\\n\\\\n\\\\n\\\\n\\\\n\\\\n\\\\n\\\\n\\\\n\\\\n\\\\n\\\\n\\\\n\\\\n\\\\n\\\\n\\\\n\\\\npython (programming language)python (programming language)\\\\n\\\\n \\\\n \\\\n\\\\n\\\\n \\\\n\\\\n\\\\n \\\\n\\\\n\\\\n\\\\n\\\\n\\\\n\\\\n \\\\n\\\\n\\\\n\\\\n\\\\n\\\\n\\\\n\\\\n\\\\nbusiness analyst intern at astellas pharma usbusiness analyst intern at astellas pharma us\\\\n\\\\n\\\\n\\\\n\\\\n\\\\n\\\\n\\\\n\\\\n\\\\n\\\\n\\\\n\\\\n\\\\n\\\\n\\\\n\\\\n\\\\n\\\\n\\\\n\\\\n\\\\n\\\\ncustomer servicecustomer service\\\\n\\\\n \\\\n \\\\n\\\\n\\\\n \\\\n\\\\n\\\\n \\\\n\\\\n\\\\n\\\\n\\\\n\\\\n\\\\n\\\\n\\\\n\\\\n\\\\n\\\\n\\\\n\\\\n\\\\n\\\\n\\\\n1 endorsement1 endorsement\\\\n\\\\n\\\\n\\\\n\\\\n\\\\n\\\\n\\\\n\\\\n\\\\n\"\"'"
      ]
     },
     "execution_count": 92,
     "metadata": {},
     "output_type": "execute_result"
    }
   ],
   "source": [
    "text = text.split('\\\\n\\\\n\\\\n\\\\n\\\\n\\\\n \\\\n\\\\n \\\\n\\\\n\\\\n\\\\n\\\\n\\\\n\\\\n\\\\n \\\\n\\\\n\\\\n\\\\n\\\\n\\\\n\\\\n\\\\n\\\\n\\\\n')[1]\n",
    "text"
   ]
  },
  {
   "cell_type": "code",
   "execution_count": 93,
   "id": "ebd7b907",
   "metadata": {},
   "outputs": [],
   "source": [
    "all_sections = text.split('\\\\n\\\\n\\\\n\\\\n\\\\n\\\\n\\\\n\\\\n\\\\n\\\\n\\\\n\\\\n\\\\n\\\\n\\\\n\\\\n\\\\n\\\\n\\\\n \\\\n\\\\n\\\\n\\\\n\\\\n\\\\n\\\\n\\\\n\\\\n\\\\n')"
   ]
  },
  {
   "cell_type": "code",
   "execution_count": 94,
   "id": "0cc434cb",
   "metadata": {},
   "outputs": [
    {
     "data": {
      "text/plain": [
       "['web developerweb developer\\\\n\\\\n \\\\n\\\\ninstitute for population and precision health at the university of chicago ¬∑ part-timeinstitute for population and precision health at the university of chicago ¬∑ part-time\\\\n\\\\n\\\\nsep 2021 - present ¬∑ 1 yr 5 mossep 2021 - present ¬∑ 1 yr 5 mos\\\\n\\\\n\\\\nchicago, illinois, united stateschicago, illinois, united states\\\\n\\\\n\\\\n\\\\n\\\\n \\\\n\\\\n\\\\n \\\\n\\\\n\\\\n \\\\n\\\\n\\\\n\\\\n\\\\n\\\\nassist in building next-generation research participant management system, using python, django, sql, and awsassist in building next-generation research participant management system, using python, django, sql, and aws',\n",
       " 'business analyst internbusiness analyst intern\\\\n\\\\n \\\\n\\\\nastellas pharma us ¬∑ internshipastellas pharma us ¬∑ internship\\\\n\\\\n\\\\njun 2022 - sep 2022 ¬∑ 4 mosjun 2022 - sep 2022 ¬∑ 4 mos\\\\n\\\\n\\\\nnorthbrook, illinois, united statesnorthbrook, illinois, united states\\\\n\\\\n\\\\n\\\\n\\\\n \\\\n\\\\n\\\\n \\\\n\\\\n\\\\n \\\\n\\\\n\\\\n\\\\n\\\\n\\\\nthe ci business & market analytics intern is a position responsible for supporting business and market analytics (bama) in researching and collecting information on multiple markets. responsibilities include working with multiple datasets to identify differences in the data to change market definitions, assembling and presenting information about in-line and pipeline products in order to support business objectivesthe ci business & market analytics intern is a position responsible for supporting business and market analytics (bama) in researching and collecting information on multiple markets. responsibilities include working with multiple datasets to identify differences in the data to change market definitions, assembling and presenting information about in-line and pipeline products in order to support business objectives\\\\n\\\\n\\\\n\\\\n\\\\n\\\\n\\\\n\\\\n\\\\n\\\\n\\\\n \\\\n\\\\n\\\\n\\\\n\\\\n\\\\nskills: python (programming language) ¬∑ microsoft excel ¬∑ data analysis ¬∑ sqlskills: python (programming language) ¬∑ microsoft excel ¬∑ data analysis ¬∑ sql',\n",
       " \"software engineersoftware engineer\\\\n\\\\n \\\\n\\\\nfractracker alliance ¬∑ seasonalfractracker alliance ¬∑ seasonal\\\\n\\\\n\\\\nsep 2021 - dec 2021 ¬∑ 4 mossep 2021 - dec 2021 ¬∑ 4 mos\\\\n\\\\n\\\\nchicago, illinois, united stateschicago, illinois, united states\\\\n\\\\n\\\\n\\\\n\\\\n \\\\n\\\\n\\\\n \\\\n\\\\n\\\\n \\\\n\\\\n\\\\n\\\\n\\\\n\\\\n-this project is a collaboration among the university of chicago's data science institute, fractracker alliance and the 11th hour project. -helped fractracker alliance, a non-profit organization addressing pressing extraction-related concerns with a lens toward health effects and exposure risks on communities from oil and gas development, to add a new feature to the app permitting users to submit reports as official complaints to the appropriate state agencies. -built a set of scripts that run nightly to (1) query the fractracker internal api for fracking reports, (2) route each report to the corresponding state agency, and (3) submit the required data through either an automated email or webdriver tool such as selenium. our scripts will be deployed to google cloud platform (gcp)-this project is a collaboration among the university of chicago's data science institute, fractracker alliance and the 11th hour project. \\\\n-helped fractracker alliance, a non-profit organization addressing pressing extraction-related concerns with a lens toward health effects and exposure risks on communities from oil and gas development, to add a new feature to the app permitting users to submit reports as official complaints to the appropriate state agencies. \\\\n-built a set of scripts that run nightly to (1) query the fractracker internal api for fracking reports, (2) route each report to the corresponding state agency, and (3) submit the required data through either an automated email or webdriver tool such as selenium. our scripts will be deployed to google cloud platform (gcp)\\\\n\\\\n\\\\n\\\\n\\\\n\\\\n\\\\n\\\\n\\\\n\\\\n\\\\n \\\\n\\\\n\\\\n\\\\n\\\\n\\\\n\\\\n\\\\n\\\\n\\\\n\\\\n\\\\n\\\\n\\\\n\\\\n \\\\n\\\\n\\\\n\\\\n\\\\nfractracker final presentation (12.10.21).mp4fractracker final presentation (12.10.21).mp4\\\\n\\\\n \\\\n\\\\n\\\\n\\\\n\\\\n\\\\n\\\\n\\\\n\\\\n\\\\n\\\\n\\\\n\\\\n\\\\n\\\\n\\\\n\\\\n \\\\n\\\\n\\\\n\\\\n\\\\n\\\\n\\\\n\\\\n\\\\n\\\\nassistant project coordinatorassistant project coordinator\\\\n\\\\n \\\\n\\\\nuniversity of california, san diego - jacobs school of engineering ¬∑ part-timeuniversity of california, san diego - jacobs school of engineering ¬∑ part-time\\\\n\\\\n\\\\njul 2021 - sep 2021 ¬∑ 3 mosjul 2021 - sep 2021 ¬∑ 3 mos\\\\n\\\\n\\\\nsan diego, california, united statessan diego, california, united states\\\\n\\\\n\\\\n\\\\n\\\\n \\\\n\\\\n\\\\n \\\\n\\\\n\\\\n \\\\n\\\\n\\\\n\\\\n\\\\n\\\\ndevelop and deploy educational software and computer-programming projects and activities in matlab, implement an email automation system using google app script/qualtrics, conduct educational research using data analysis, impact assessment, and conference presentations for publication purposesdevelop and deploy educational software and computer-programming projects and activities in matlab, implement an email automation system using google app script/qualtrics, conduct educational research using data analysis, impact assessment, and conference presentations for publication purposes\",\n",
       " 'research assistantresearch assistant\\\\n\\\\n \\\\n\\\\nuc san diego school of global policy and strategy (gps) ¬∑ part-timeuc san diego school of global policy and strategy (gps) ¬∑ part-time\\\\n\\\\n\\\\njun 2021 - sep 2021 ¬∑ 4 mosjun 2021 - sep 2021 ¬∑ 4 mos\\\\n\\\\n\\\\nsan diego, california, united statessan diego, california, united states\\\\n\\\\n\\\\n\\\\n\\\\n \\\\n\\\\n\\\\n \\\\n\\\\n\\\\n \\\\n\\\\n\\\\n\\\\n\\\\n\\\\nwork directly with postdoc christina cottiero, professor stephan haggard (pi), professor christina  schneider and professor lauren prather to collect data on election observation missions sent by authoritarian international organizations to member state elections in africa and central asia in forms of web/pdf scrapping, present findings using data visualizationwork directly with postdoc christina cottiero, professor stephan haggard (pi), professor christina  schneider and professor lauren prather to collect data on election observation missions sent by authoritarian international organizations to member state elections in africa and central asia in forms of web/pdf scrapping, present findings using data visualization',\n",
       " 'university of chicagouniversity of chicago\\\\n\\\\n \\\\n\\\\nmaster of arts - ma, computational social sciencemaster of arts - ma, computational social science\\\\n\\\\n\\\\n2021 - 20232021 - 2023\\\\n\\\\n \\\\n\\\\n\\\\n \\\\n\\\\n\\\\n \\\\n\\\\n\\\\n \\\\n\\\\n\\\\n\\\\n\\\\n\\\\nawarded with maroon scholar research award scholarship (1/2 scholarship)gpa: 3.83/4.00awarded with maroon scholar research award scholarship (1/2 scholarship)\\\\ngpa: 3.83/4.00',\n",
       " 'uc san diegouc san diego\\\\n\\\\n \\\\n\\\\nbachelor of science - bs, mathematics‚Äìscientific computation and\\\\xa0political science‚Äìdata analyticsbachelor of science - bs, mathematics‚Äìscientific computation and\\\\xa0political science‚Äìdata analytics\\\\n\\\\n\\\\n2017 - 20212017 - 2021\\\\n\\\\n \\\\n\\\\n\\\\n \\\\n\\\\n\\\\n \\\\n\\\\n\\\\n \\\\n\\\\n\\\\n\\\\nactivities and societies: pi sigma alpha (national political science honor society) | sums (society of undergraduate mathematics students) | acamazing (ucsd-based co-ed a capella group) activities and societies: pi sigma alpha (national political science honor society) | sums (society of undergraduate mathematics students) | acamazing (ucsd-based co-ed a capella group) \\\\n\\\\n\\\\n\\\\n\\\\n\\\\n\\\\n\\\\n\\\\n \\\\n\\\\n\\\\n\\\\n\\\\n\\\\nmath major gpa: 3.900;political science gpa: 4.000; cumulative gpa: 3.775graduated with cum laude;graduated with highest honor in the field of political science;arend lijphart award for best overall performance (2020 - 2021);marshall college awards 2021;marshall college citizen cord recipient; marshall college provost honor for research excellence;marshall college dimension of culture program (doc) research project contest finalist (top 1%)math major gpa: 3.900;\\\\npolitical science gpa: 4.000; \\\\ncumulative gpa: 3.775\\\\ngraduated with cum laude;\\\\ngraduated with highest honor in the field of political science;\\\\narend lijphart award for best overall performance (2020 - 2021);\\\\nmarshall college awards 2021;\\\\nmarshall college citizen cord recipient; \\\\nmarshall college provost honor for research excellence;\\\\nmarshall college dimension of culture program (doc) research project contest finalist (top 1%)\\\\n\\\\n\\\\n\\\\n\\\\n\\\\n\\\\n\\\\n\\\\n\\\\n\\\\n \\\\n\\\\n\\\\n\\\\n\\\\n\\\\n\\\\n\\\\n\\\\n\\\\n\\\\n \\\\n\\\\n\\\\n\\\\n\\\\nsenior honors thesissenior honors thesis\\\\n\\\\n\\\\n\\\\n\\\\n\\\\nattached is my senior honor thesis submitted to ucsd‚Äôs department of political science. i received highest honor and arend lijphart award for the best overall performance.attached is my senior honor thesis submitted to ucsd‚Äôs department of political science. i received highest honor and arend lijphart award for the best overall performance.\\\\n\\\\n\\\\n',\n",
       " 'stevenson schoolstevenson school\\\\n\\\\n \\\\n\\\\nhigh schoolhigh school\\\\n\\\\n\\\\n2013 - 20172013 - 2017\\\\n\\\\n \\\\n\\\\n\\\\n \\\\n\\\\n\\\\n \\\\n\\\\n\\\\n \\\\n\\\\n\\\\n\\\\ngrade: 9-12grade: 9-12\\\\n\\\\n\\\\n\\\\n\\\\n\\\\n\\\\n\\\\n\\\\n \\\\n\\\\n\\\\n\\\\nactivities and societies: mentor head of green key student ambassador program | captain of varsity cross country (mvp of 2016-2017) | varsity track & field / lacrosse | jazz choir / contemporary acapella choir / chamber choir | member of california all-state honor choir and california choral leadership academyactivities and societies: mentor head of green key student ambassador program | \\\\ncaptain of varsity cross country (mvp of 2016-2017) | \\\\nvarsity track & field / lacrosse | \\\\njazz choir / contemporary acapella choir / chamber choir | \\\\nmember of california all-state honor choir and california choral leadership academy\\\\n\\\\n\\\\n\\\\n\\\\n\\\\n\\\\n\\\\n\\\\n \\\\n\\\\n\\\\n\\\\n\\\\n\\\\ngraduated with faculty honorÔºõcumulative gpa: 4.01graduated with faculty honorÔºõ\\\\ncumulative gpa: 4.01',\n",
       " 'social & behavioral researchsocial & behavioral research\\\\n\\\\n \\\\n\\\\nciti programciti program\\\\n\\\\n\\\\nissued dec 2020 ¬∑ expires dec 2023issued dec 2020 ¬∑ expires dec 2023\\\\n\\\\n\\\\ncredential id 40079207credential id 40079207\\\\n\\\\n\\\\n\\\\n\\\\n \\\\n\\\\n\\\\n \\\\n\\\\n\\\\n\\\\n \\\\n        show credential\\\\n      \\\\n\\\\n\\\\n\\\\n\\\\n\\\\n\\\\n\\\\n\\\\n\\\\n\\\\n\\\\n\\\\n\\\\n\\\\n\\\\n\\\\n\\\\n\\\\n\\\\n\\\\n\\\\n\\\\n\\\\n\\\\nuser experience design (ued)user experience design (ued)\\\\n\\\\n \\\\n \\\\n\\\\n\\\\n \\\\n\\\\n\\\\n\\\\n\\\\n\\\\n\\\\n\\\\n\\\\n\\\\n\\\\n\\\\n\\\\n\\\\n\\\\n\\\\n\\\\n\\\\npython (programming language)python (programming language)\\\\n\\\\n \\\\n \\\\n\\\\n\\\\n \\\\n\\\\n\\\\n \\\\n\\\\n\\\\n\\\\n\\\\n\\\\n\\\\n \\\\n\\\\n\\\\n\\\\n\\\\n\\\\n\\\\n\\\\n\\\\nbusiness analyst intern at astellas pharma usbusiness analyst intern at astellas pharma us\\\\n\\\\n\\\\n\\\\n\\\\n\\\\n\\\\n\\\\n\\\\n\\\\n\\\\n\\\\n\\\\n\\\\n\\\\n\\\\n\\\\n\\\\n\\\\n\\\\n\\\\n\\\\n\\\\ncustomer servicecustomer service\\\\n\\\\n \\\\n \\\\n\\\\n\\\\n \\\\n\\\\n\\\\n \\\\n\\\\n\\\\n\\\\n\\\\n\\\\n\\\\n\\\\n\\\\n\\\\n\\\\n\\\\n\\\\n\\\\n\\\\n\\\\n\\\\n1 endorsement1 endorsement\\\\n\\\\n\\\\n\\\\n\\\\n\\\\n\\\\n\\\\n\\\\n\\\\n\"\"']"
      ]
     },
     "execution_count": 94,
     "metadata": {},
     "output_type": "execute_result"
    }
   ],
   "source": [
    "all_sections"
   ]
  },
  {
   "cell_type": "markdown",
   "id": "0e75daa7",
   "metadata": {},
   "source": [
    "## Split into education and experience"
   ]
  },
  {
   "cell_type": "code",
   "execution_count": 95,
   "id": "3e8a1c94",
   "metadata": {},
   "outputs": [],
   "source": [
    "educations = []\n",
    "experiences = []\n",
    "for section in all_sections:\n",
    "    if 'bachelor' in section or 'master' in section or 'phd' in section or 'ph.d' in section or 'j.d.' in section or 'juris doctor' in section or 'doctor of medicine' in section or 'mba' in section or 'md' in section or 'high school' in section:\n",
    "        educations.append(section)\n",
    "    elif 'show credential\\\\n' in section or '^[0-9]+$ endorsement\\\\n\\\\n\\\\n\\\\n\\\\n\\\\n\\\\n\\\\n\\\\n\\\\n' in section:\n",
    "        pass\n",
    "    else:\n",
    "        experiences.append(section)"
   ]
  },
  {
   "cell_type": "code",
   "execution_count": 96,
   "id": "c040e6e2",
   "metadata": {},
   "outputs": [
    {
     "data": {
      "text/plain": [
       "['university of chicagouniversity of chicago\\\\n\\\\n \\\\n\\\\nmaster of arts - ma, computational social sciencemaster of arts - ma, computational social science\\\\n\\\\n\\\\n2021 - 20232021 - 2023\\\\n\\\\n \\\\n\\\\n\\\\n \\\\n\\\\n\\\\n \\\\n\\\\n\\\\n \\\\n\\\\n\\\\n\\\\n\\\\n\\\\nawarded with maroon scholar research award scholarship (1/2 scholarship)gpa: 3.83/4.00awarded with maroon scholar research award scholarship (1/2 scholarship)\\\\ngpa: 3.83/4.00',\n",
       " 'uc san diegouc san diego\\\\n\\\\n \\\\n\\\\nbachelor of science - bs, mathematics‚Äìscientific computation and\\\\xa0political science‚Äìdata analyticsbachelor of science - bs, mathematics‚Äìscientific computation and\\\\xa0political science‚Äìdata analytics\\\\n\\\\n\\\\n2017 - 20212017 - 2021\\\\n\\\\n \\\\n\\\\n\\\\n \\\\n\\\\n\\\\n \\\\n\\\\n\\\\n \\\\n\\\\n\\\\n\\\\nactivities and societies: pi sigma alpha (national political science honor society) | sums (society of undergraduate mathematics students) | acamazing (ucsd-based co-ed a capella group) activities and societies: pi sigma alpha (national political science honor society) | sums (society of undergraduate mathematics students) | acamazing (ucsd-based co-ed a capella group) \\\\n\\\\n\\\\n\\\\n\\\\n\\\\n\\\\n\\\\n\\\\n \\\\n\\\\n\\\\n\\\\n\\\\n\\\\nmath major gpa: 3.900;political science gpa: 4.000; cumulative gpa: 3.775graduated with cum laude;graduated with highest honor in the field of political science;arend lijphart award for best overall performance (2020 - 2021);marshall college awards 2021;marshall college citizen cord recipient; marshall college provost honor for research excellence;marshall college dimension of culture program (doc) research project contest finalist (top 1%)math major gpa: 3.900;\\\\npolitical science gpa: 4.000; \\\\ncumulative gpa: 3.775\\\\ngraduated with cum laude;\\\\ngraduated with highest honor in the field of political science;\\\\narend lijphart award for best overall performance (2020 - 2021);\\\\nmarshall college awards 2021;\\\\nmarshall college citizen cord recipient; \\\\nmarshall college provost honor for research excellence;\\\\nmarshall college dimension of culture program (doc) research project contest finalist (top 1%)\\\\n\\\\n\\\\n\\\\n\\\\n\\\\n\\\\n\\\\n\\\\n\\\\n\\\\n \\\\n\\\\n\\\\n\\\\n\\\\n\\\\n\\\\n\\\\n\\\\n\\\\n\\\\n \\\\n\\\\n\\\\n\\\\n\\\\nsenior honors thesissenior honors thesis\\\\n\\\\n\\\\n\\\\n\\\\n\\\\nattached is my senior honor thesis submitted to ucsd‚Äôs department of political science. i received highest honor and arend lijphart award for the best overall performance.attached is my senior honor thesis submitted to ucsd‚Äôs department of political science. i received highest honor and arend lijphart award for the best overall performance.\\\\n\\\\n\\\\n',\n",
       " 'stevenson schoolstevenson school\\\\n\\\\n \\\\n\\\\nhigh schoolhigh school\\\\n\\\\n\\\\n2013 - 20172013 - 2017\\\\n\\\\n \\\\n\\\\n\\\\n \\\\n\\\\n\\\\n \\\\n\\\\n\\\\n \\\\n\\\\n\\\\n\\\\ngrade: 9-12grade: 9-12\\\\n\\\\n\\\\n\\\\n\\\\n\\\\n\\\\n\\\\n\\\\n \\\\n\\\\n\\\\n\\\\nactivities and societies: mentor head of green key student ambassador program | captain of varsity cross country (mvp of 2016-2017) | varsity track & field / lacrosse | jazz choir / contemporary acapella choir / chamber choir | member of california all-state honor choir and california choral leadership academyactivities and societies: mentor head of green key student ambassador program | \\\\ncaptain of varsity cross country (mvp of 2016-2017) | \\\\nvarsity track & field / lacrosse | \\\\njazz choir / contemporary acapella choir / chamber choir | \\\\nmember of california all-state honor choir and california choral leadership academy\\\\n\\\\n\\\\n\\\\n\\\\n\\\\n\\\\n\\\\n\\\\n \\\\n\\\\n\\\\n\\\\n\\\\n\\\\ngraduated with faculty honorÔºõcumulative gpa: 4.01graduated with faculty honorÔºõ\\\\ncumulative gpa: 4.01']"
      ]
     },
     "execution_count": 96,
     "metadata": {},
     "output_type": "execute_result"
    }
   ],
   "source": [
    "educations"
   ]
  },
  {
   "cell_type": "code",
   "execution_count": 97,
   "id": "a973a87b",
   "metadata": {},
   "outputs": [
    {
     "data": {
      "text/plain": [
       "['web developerweb developer\\\\n\\\\n \\\\n\\\\ninstitute for population and precision health at the university of chicago ¬∑ part-timeinstitute for population and precision health at the university of chicago ¬∑ part-time\\\\n\\\\n\\\\nsep 2021 - present ¬∑ 1 yr 5 mossep 2021 - present ¬∑ 1 yr 5 mos\\\\n\\\\n\\\\nchicago, illinois, united stateschicago, illinois, united states\\\\n\\\\n\\\\n\\\\n\\\\n \\\\n\\\\n\\\\n \\\\n\\\\n\\\\n \\\\n\\\\n\\\\n\\\\n\\\\n\\\\nassist in building next-generation research participant management system, using python, django, sql, and awsassist in building next-generation research participant management system, using python, django, sql, and aws',\n",
       " 'business analyst internbusiness analyst intern\\\\n\\\\n \\\\n\\\\nastellas pharma us ¬∑ internshipastellas pharma us ¬∑ internship\\\\n\\\\n\\\\njun 2022 - sep 2022 ¬∑ 4 mosjun 2022 - sep 2022 ¬∑ 4 mos\\\\n\\\\n\\\\nnorthbrook, illinois, united statesnorthbrook, illinois, united states\\\\n\\\\n\\\\n\\\\n\\\\n \\\\n\\\\n\\\\n \\\\n\\\\n\\\\n \\\\n\\\\n\\\\n\\\\n\\\\n\\\\nthe ci business & market analytics intern is a position responsible for supporting business and market analytics (bama) in researching and collecting information on multiple markets. responsibilities include working with multiple datasets to identify differences in the data to change market definitions, assembling and presenting information about in-line and pipeline products in order to support business objectivesthe ci business & market analytics intern is a position responsible for supporting business and market analytics (bama) in researching and collecting information on multiple markets. responsibilities include working with multiple datasets to identify differences in the data to change market definitions, assembling and presenting information about in-line and pipeline products in order to support business objectives\\\\n\\\\n\\\\n\\\\n\\\\n\\\\n\\\\n\\\\n\\\\n\\\\n\\\\n \\\\n\\\\n\\\\n\\\\n\\\\n\\\\nskills: python (programming language) ¬∑ microsoft excel ¬∑ data analysis ¬∑ sqlskills: python (programming language) ¬∑ microsoft excel ¬∑ data analysis ¬∑ sql',\n",
       " \"software engineersoftware engineer\\\\n\\\\n \\\\n\\\\nfractracker alliance ¬∑ seasonalfractracker alliance ¬∑ seasonal\\\\n\\\\n\\\\nsep 2021 - dec 2021 ¬∑ 4 mossep 2021 - dec 2021 ¬∑ 4 mos\\\\n\\\\n\\\\nchicago, illinois, united stateschicago, illinois, united states\\\\n\\\\n\\\\n\\\\n\\\\n \\\\n\\\\n\\\\n \\\\n\\\\n\\\\n \\\\n\\\\n\\\\n\\\\n\\\\n\\\\n-this project is a collaboration among the university of chicago's data science institute, fractracker alliance and the 11th hour project. -helped fractracker alliance, a non-profit organization addressing pressing extraction-related concerns with a lens toward health effects and exposure risks on communities from oil and gas development, to add a new feature to the app permitting users to submit reports as official complaints to the appropriate state agencies. -built a set of scripts that run nightly to (1) query the fractracker internal api for fracking reports, (2) route each report to the corresponding state agency, and (3) submit the required data through either an automated email or webdriver tool such as selenium. our scripts will be deployed to google cloud platform (gcp)-this project is a collaboration among the university of chicago's data science institute, fractracker alliance and the 11th hour project. \\\\n-helped fractracker alliance, a non-profit organization addressing pressing extraction-related concerns with a lens toward health effects and exposure risks on communities from oil and gas development, to add a new feature to the app permitting users to submit reports as official complaints to the appropriate state agencies. \\\\n-built a set of scripts that run nightly to (1) query the fractracker internal api for fracking reports, (2) route each report to the corresponding state agency, and (3) submit the required data through either an automated email or webdriver tool such as selenium. our scripts will be deployed to google cloud platform (gcp)\\\\n\\\\n\\\\n\\\\n\\\\n\\\\n\\\\n\\\\n\\\\n\\\\n\\\\n \\\\n\\\\n\\\\n\\\\n\\\\n\\\\n\\\\n\\\\n\\\\n\\\\n\\\\n\\\\n\\\\n\\\\n\\\\n \\\\n\\\\n\\\\n\\\\n\\\\nfractracker final presentation (12.10.21).mp4fractracker final presentation (12.10.21).mp4\\\\n\\\\n \\\\n\\\\n\\\\n\\\\n\\\\n\\\\n\\\\n\\\\n\\\\n\\\\n\\\\n\\\\n\\\\n\\\\n\\\\n\\\\n\\\\n \\\\n\\\\n\\\\n\\\\n\\\\n\\\\n\\\\n\\\\n\\\\n\\\\nassistant project coordinatorassistant project coordinator\\\\n\\\\n \\\\n\\\\nuniversity of california, san diego - jacobs school of engineering ¬∑ part-timeuniversity of california, san diego - jacobs school of engineering ¬∑ part-time\\\\n\\\\n\\\\njul 2021 - sep 2021 ¬∑ 3 mosjul 2021 - sep 2021 ¬∑ 3 mos\\\\n\\\\n\\\\nsan diego, california, united statessan diego, california, united states\\\\n\\\\n\\\\n\\\\n\\\\n \\\\n\\\\n\\\\n \\\\n\\\\n\\\\n \\\\n\\\\n\\\\n\\\\n\\\\n\\\\ndevelop and deploy educational software and computer-programming projects and activities in matlab, implement an email automation system using google app script/qualtrics, conduct educational research using data analysis, impact assessment, and conference presentations for publication purposesdevelop and deploy educational software and computer-programming projects and activities in matlab, implement an email automation system using google app script/qualtrics, conduct educational research using data analysis, impact assessment, and conference presentations for publication purposes\",\n",
       " 'research assistantresearch assistant\\\\n\\\\n \\\\n\\\\nuc san diego school of global policy and strategy (gps) ¬∑ part-timeuc san diego school of global policy and strategy (gps) ¬∑ part-time\\\\n\\\\n\\\\njun 2021 - sep 2021 ¬∑ 4 mosjun 2021 - sep 2021 ¬∑ 4 mos\\\\n\\\\n\\\\nsan diego, california, united statessan diego, california, united states\\\\n\\\\n\\\\n\\\\n\\\\n \\\\n\\\\n\\\\n \\\\n\\\\n\\\\n \\\\n\\\\n\\\\n\\\\n\\\\n\\\\nwork directly with postdoc christina cottiero, professor stephan haggard (pi), professor christina  schneider and professor lauren prather to collect data on election observation missions sent by authoritarian international organizations to member state elections in africa and central asia in forms of web/pdf scrapping, present findings using data visualizationwork directly with postdoc christina cottiero, professor stephan haggard (pi), professor christina  schneider and professor lauren prather to collect data on election observation missions sent by authoritarian international organizations to member state elections in africa and central asia in forms of web/pdf scrapping, present findings using data visualization']"
      ]
     },
     "execution_count": 97,
     "metadata": {},
     "output_type": "execute_result"
    }
   ],
   "source": [
    "experiences"
   ]
  },
  {
   "cell_type": "code",
   "execution_count": 98,
   "id": "134f611a",
   "metadata": {},
   "outputs": [],
   "source": [
    "def further_break_down(sections):\n",
    "    for section in sections:\n",
    "        if '\\\\n\\\\n \\\\n\\\\n\\\\n\\\\n\\\\n\\\\n\\\\n\\\\n\\\\n\\\\n\\\\n\\\\n\\\\n\\\\n\\\\n\\\\n\\\\n \\\\n\\\\n\\\\n\\\\n\\\\n\\\\n\\\\n\\\\n\\\\n\\\\n' in section:\n",
    "            section_list = section.split('\\\\n\\\\n \\\\n\\\\n\\\\n\\\\n\\\\n\\\\n\\\\n\\\\n\\\\n\\\\n\\\\n\\\\n\\\\n\\\\n\\\\n\\\\n\\\\n \\\\n\\\\n\\\\n\\\\n\\\\n\\\\n\\\\n\\\\n\\\\n\\\\n')\n",
    "            sections.remove(section)\n",
    "            for sec in experience_list:\n",
    "                if 'mos' in sec or 'yr' in sec:\n",
    "                    sections.append(sec)"
   ]
  },
  {
   "cell_type": "code",
   "execution_count": 99,
   "id": "4d10fc60",
   "metadata": {},
   "outputs": [
    {
     "data": {
      "text/plain": [
       "['web developerweb developer\\\\n\\\\n \\\\n\\\\ninstitute for population and precision health at the university of chicago ¬∑ part-timeinstitute for population and precision health at the university of chicago ¬∑ part-time\\\\n\\\\n\\\\nsep 2021 - present ¬∑ 1 yr 5 mossep 2021 - present ¬∑ 1 yr 5 mos\\\\n\\\\n\\\\nchicago, illinois, united stateschicago, illinois, united states\\\\n\\\\n\\\\n\\\\n\\\\n \\\\n\\\\n\\\\n \\\\n\\\\n\\\\n \\\\n\\\\n\\\\n\\\\n\\\\n\\\\nassist in building next-generation research participant management system, using python, django, sql, and awsassist in building next-generation research participant management system, using python, django, sql, and aws',\n",
       " 'business analyst internbusiness analyst intern\\\\n\\\\n \\\\n\\\\nastellas pharma us ¬∑ internshipastellas pharma us ¬∑ internship\\\\n\\\\n\\\\njun 2022 - sep 2022 ¬∑ 4 mosjun 2022 - sep 2022 ¬∑ 4 mos\\\\n\\\\n\\\\nnorthbrook, illinois, united statesnorthbrook, illinois, united states\\\\n\\\\n\\\\n\\\\n\\\\n \\\\n\\\\n\\\\n \\\\n\\\\n\\\\n \\\\n\\\\n\\\\n\\\\n\\\\n\\\\nthe ci business & market analytics intern is a position responsible for supporting business and market analytics (bama) in researching and collecting information on multiple markets. responsibilities include working with multiple datasets to identify differences in the data to change market definitions, assembling and presenting information about in-line and pipeline products in order to support business objectivesthe ci business & market analytics intern is a position responsible for supporting business and market analytics (bama) in researching and collecting information on multiple markets. responsibilities include working with multiple datasets to identify differences in the data to change market definitions, assembling and presenting information about in-line and pipeline products in order to support business objectives\\\\n\\\\n\\\\n\\\\n\\\\n\\\\n\\\\n\\\\n\\\\n\\\\n\\\\n \\\\n\\\\n\\\\n\\\\n\\\\n\\\\nskills: python (programming language) ¬∑ microsoft excel ¬∑ data analysis ¬∑ sqlskills: python (programming language) ¬∑ microsoft excel ¬∑ data analysis ¬∑ sql',\n",
       " 'research assistantresearch assistant\\\\n\\\\n \\\\n\\\\nuc san diego school of global policy and strategy (gps) ¬∑ part-timeuc san diego school of global policy and strategy (gps) ¬∑ part-time\\\\n\\\\n\\\\njun 2021 - sep 2021 ¬∑ 4 mosjun 2021 - sep 2021 ¬∑ 4 mos\\\\n\\\\n\\\\nsan diego, california, united statessan diego, california, united states\\\\n\\\\n\\\\n\\\\n\\\\n \\\\n\\\\n\\\\n \\\\n\\\\n\\\\n \\\\n\\\\n\\\\n\\\\n\\\\n\\\\nwork directly with postdoc christina cottiero, professor stephan haggard (pi), professor christina  schneider and professor lauren prather to collect data on election observation missions sent by authoritarian international organizations to member state elections in africa and central asia in forms of web/pdf scrapping, present findings using data visualizationwork directly with postdoc christina cottiero, professor stephan haggard (pi), professor christina  schneider and professor lauren prather to collect data on election observation missions sent by authoritarian international organizations to member state elections in africa and central asia in forms of web/pdf scrapping, present findings using data visualization',\n",
       " 'assistant project coordinatorassistant project coordinator\\\\n\\\\n \\\\n\\\\nuniversity of california, san diego - jacobs school of engineering ¬∑ part-timeuniversity of california, san diego - jacobs school of engineering ¬∑ part-time\\\\n\\\\n\\\\njul 2021 - sep 2021 ¬∑ 3 mosjul 2021 - sep 2021 ¬∑ 3 mos\\\\n\\\\n\\\\nsan diego, california, united statessan diego, california, united states\\\\n\\\\n\\\\n\\\\n\\\\n \\\\n\\\\n\\\\n \\\\n\\\\n\\\\n \\\\n\\\\n\\\\n\\\\n\\\\n\\\\ndevelop and deploy educational software and computer-programming projects and activities in matlab, implement an email automation system using google app script/qualtrics, conduct educational research using data analysis, impact assessment, and conference presentations for publication purposesdevelop and deploy educational software and computer-programming projects and activities in matlab, implement an email automation system using google app script/qualtrics, conduct educational research using data analysis, impact assessment, and conference presentations for publication purposes']"
      ]
     },
     "execution_count": 99,
     "metadata": {},
     "output_type": "execute_result"
    }
   ],
   "source": [
    "further_break_down(experiences)\n",
    "experiences"
   ]
  },
  {
   "cell_type": "code",
   "execution_count": 158,
   "id": "f5156a0d",
   "metadata": {},
   "outputs": [],
   "source": [
    "def section_summary(section):\n",
    "    delimiters = '\\\\n\\\\n \\\\n\\\\n', \" ¬∑ \", \"\\\\n\\\\n\\\\n\"\n",
    "    regex_pattern = '|'.join(map(re.escape, delimiters))\n",
    "    section_detail = re.split(regex_pattern,  section)\n",
    "    return section_detail"
   ]
  },
  {
   "cell_type": "code",
   "execution_count": 226,
   "id": "9a3dd81c",
   "metadata": {},
   "outputs": [
    {
     "data": {
      "text/plain": [
       "['business analyst internbusiness analyst intern',\n",
       " 'astellas pharma us',\n",
       " 'internshipastellas pharma us',\n",
       " 'internship',\n",
       " 'jun 2022 - sep 2022',\n",
       " '4 mosjun 2022 - sep 2022',\n",
       " '4 mos',\n",
       " 'northbrook, illinois, united statesnorthbrook, illinois, united states',\n",
       " '',\n",
       " '\\\\n ',\n",
       " ' ',\n",
       " '',\n",
       " 'the ci business & market analytics intern is a position responsible for supporting business and market analytics (bama) in researching and collecting information on multiple markets. responsibilities include working with multiple datasets to identify differences in the data to change market definitions, assembling and presenting information about in-line and pipeline products in order to support business objectivesthe ci business & market analytics intern is a position responsible for supporting business and market analytics (bama) in researching and collecting information on multiple markets. responsibilities include working with multiple datasets to identify differences in the data to change market definitions, assembling and presenting information about in-line and pipeline products in order to support business objectives',\n",
       " '',\n",
       " '',\n",
       " '',\n",
       " '',\n",
       " '\\\\nskills: python (programming language)',\n",
       " 'microsoft excel',\n",
       " 'data analysis',\n",
       " 'sqlskills: python (programming language)',\n",
       " 'microsoft excel',\n",
       " 'data analysis',\n",
       " 'sql']"
      ]
     },
     "execution_count": 226,
     "metadata": {},
     "output_type": "execute_result"
    }
   ],
   "source": [
    "ex_ex = section_summary(experiences[1])\n",
    "ex_ex"
   ]
  },
  {
   "cell_type": "code",
   "execution_count": 160,
   "id": "8005a202",
   "metadata": {},
   "outputs": [],
   "source": [
    "def same_string(test_str):\n",
    "    regex = f'{test_str[-2:]}{test_str[0:2]}'\n",
    "    match = re.search(regex, test_str)\n",
    "    if match is not None:\n",
    "        return test_str[match.end()-2:]"
   ]
  },
  {
   "cell_type": "code",
   "execution_count": 161,
   "id": "aa1089cd",
   "metadata": {},
   "outputs": [
    {
     "data": {
      "text/plain": [
       "'web developer'"
      ]
     },
     "execution_count": 161,
     "metadata": {},
     "output_type": "execute_result"
    }
   ],
   "source": [
    "same_string(ex_ex[0])"
   ]
  },
  {
   "cell_type": "code",
   "execution_count": 263,
   "id": "68f20013",
   "metadata": {
    "scrolled": false
   },
   "outputs": [],
   "source": [
    "experience_list = []\n",
    "for experience in experiences:\n",
    "    experience_dict = {}\n",
    "    exp_list = section_summary(experience)\n",
    "    target_index = 0\n",
    "    target_element = ''\n",
    "    experience_dict['position'] = same_string(exp_list[0])\n",
    "    experience_dict['company'] = exp_list[1]\n",
    "    experience_dict['time'] =  exp_list[4]\n",
    "    experience_dict['description'] = max(exp_list, key=len)\n",
    "    experience_list.append(experience_dict)"
   ]
  },
  {
   "cell_type": "code",
   "execution_count": 264,
   "id": "60d3a4ba",
   "metadata": {},
   "outputs": [
    {
     "data": {
      "text/plain": [
       "[{'position': 'web developer',\n",
       "  'company': 'institute for population and precision health at the university of chicago',\n",
       "  'time': 'sep 2021 - present',\n",
       "  'description': 'assist in building next-generation research participant management system, using python, django, sql, and awsassist in building next-generation research participant management system, using python, django, sql, and aws'},\n",
       " {'position': 'business analyst intern',\n",
       "  'company': 'astellas pharma us',\n",
       "  'time': 'jun 2022 - sep 2022',\n",
       "  'description': 'the ci business & market analytics intern is a position responsible for supporting business and market analytics (bama) in researching and collecting information on multiple markets. responsibilities include working with multiple datasets to identify differences in the data to change market definitions, assembling and presenting information about in-line and pipeline products in order to support business objectivesthe ci business & market analytics intern is a position responsible for supporting business and market analytics (bama) in researching and collecting information on multiple markets. responsibilities include working with multiple datasets to identify differences in the data to change market definitions, assembling and presenting information about in-line and pipeline products in order to support business objectives'},\n",
       " {'position': 'research assistant',\n",
       "  'company': 'uc san diego school of global policy and strategy (gps)',\n",
       "  'time': 'jun 2021 - sep 2021',\n",
       "  'description': 'work directly with postdoc christina cottiero, professor stephan haggard (pi), professor christina  schneider and professor lauren prather to collect data on election observation missions sent by authoritarian international organizations to member state elections in africa and central asia in forms of web/pdf scrapping, present findings using data visualizationwork directly with postdoc christina cottiero, professor stephan haggard (pi), professor christina  schneider and professor lauren prather to collect data on election observation missions sent by authoritarian international organizations to member state elections in africa and central asia in forms of web/pdf scrapping, present findings using data visualization'},\n",
       " {'position': 'assistant project coordinator',\n",
       "  'company': 'university of california, san diego - jacobs school of engineering',\n",
       "  'time': 'jul 2021 - sep 2021',\n",
       "  'description': 'develop and deploy educational software and computer-programming projects and activities in matlab, implement an email automation system using google app script/qualtrics, conduct educational research using data analysis, impact assessment, and conference presentations for publication purposesdevelop and deploy educational software and computer-programming projects and activities in matlab, implement an email automation system using google app script/qualtrics, conduct educational research using data analysis, impact assessment, and conference presentations for publication purposes'}]"
      ]
     },
     "execution_count": 264,
     "metadata": {},
     "output_type": "execute_result"
    }
   ],
   "source": [
    "experience_list"
   ]
  },
  {
   "cell_type": "markdown",
   "id": "5cefdf79",
   "metadata": {},
   "source": [
    "## Education"
   ]
  },
  {
   "cell_type": "code",
   "execution_count": 138,
   "id": "4ab808db",
   "metadata": {},
   "outputs": [
    {
     "data": {
      "text/plain": [
       "['university of chicagouniversity of chicago\\\\n\\\\n \\\\n\\\\nmaster of arts - ma, computational social sciencemaster of arts - ma, computational social science\\\\n\\\\n\\\\n2021 - 20232021 - 2023\\\\n\\\\n \\\\n\\\\n\\\\n \\\\n\\\\n\\\\n \\\\n\\\\n\\\\n \\\\n\\\\n\\\\n\\\\n\\\\n\\\\nawarded with maroon scholar research award scholarship (1/2 scholarship)gpa: 3.83/4.00awarded with maroon scholar research award scholarship (1/2 scholarship)\\\\ngpa: 3.83/4.00',\n",
       " 'uc san diegouc san diego\\\\n\\\\n \\\\n\\\\nbachelor of science - bs, mathematics‚Äìscientific computation and\\\\xa0political science‚Äìdata analyticsbachelor of science - bs, mathematics‚Äìscientific computation and\\\\xa0political science‚Äìdata analytics\\\\n\\\\n\\\\n2017 - 20212017 - 2021\\\\n\\\\n \\\\n\\\\n\\\\n \\\\n\\\\n\\\\n \\\\n\\\\n\\\\n \\\\n\\\\n\\\\n\\\\nactivities and societies: pi sigma alpha (national political science honor society) | sums (society of undergraduate mathematics students) | acamazing (ucsd-based co-ed a capella group) activities and societies: pi sigma alpha (national political science honor society) | sums (society of undergraduate mathematics students) | acamazing (ucsd-based co-ed a capella group) \\\\n\\\\n\\\\n\\\\n\\\\n\\\\n\\\\n\\\\n\\\\n \\\\n\\\\n\\\\n\\\\n\\\\n\\\\nmath major gpa: 3.900;political science gpa: 4.000; cumulative gpa: 3.775graduated with cum laude;graduated with highest honor in the field of political science;arend lijphart award for best overall performance (2020 - 2021);marshall college awards 2021;marshall college citizen cord recipient; marshall college provost honor for research excellence;marshall college dimension of culture program (doc) research project contest finalist (top 1%)math major gpa: 3.900;\\\\npolitical science gpa: 4.000; \\\\ncumulative gpa: 3.775\\\\ngraduated with cum laude;\\\\ngraduated with highest honor in the field of political science;\\\\narend lijphart award for best overall performance (2020 - 2021);\\\\nmarshall college awards 2021;\\\\nmarshall college citizen cord recipient; \\\\nmarshall college provost honor for research excellence;\\\\nmarshall college dimension of culture program (doc) research project contest finalist (top 1%)\\\\n\\\\n\\\\n\\\\n\\\\n\\\\n\\\\n\\\\n\\\\n\\\\n\\\\n \\\\n\\\\n\\\\n\\\\n\\\\n\\\\n\\\\n\\\\n\\\\n\\\\n\\\\n \\\\n\\\\n\\\\n\\\\n\\\\nsenior honors thesissenior honors thesis\\\\n\\\\n\\\\n\\\\n\\\\n\\\\nattached is my senior honor thesis submitted to ucsd‚Äôs department of political science. i received highest honor and arend lijphart award for the best overall performance.attached is my senior honor thesis submitted to ucsd‚Äôs department of political science. i received highest honor and arend lijphart award for the best overall performance.\\\\n\\\\n\\\\n',\n",
       " 'stevenson schoolstevenson school\\\\n\\\\n \\\\n\\\\nhigh schoolhigh school\\\\n\\\\n\\\\n2013 - 20172013 - 2017\\\\n\\\\n \\\\n\\\\n\\\\n \\\\n\\\\n\\\\n \\\\n\\\\n\\\\n \\\\n\\\\n\\\\n\\\\ngrade: 9-12grade: 9-12\\\\n\\\\n\\\\n\\\\n\\\\n\\\\n\\\\n\\\\n\\\\n \\\\n\\\\n\\\\n\\\\nactivities and societies: mentor head of green key student ambassador program | captain of varsity cross country (mvp of 2016-2017) | varsity track & field / lacrosse | jazz choir / contemporary acapella choir / chamber choir | member of california all-state honor choir and california choral leadership academyactivities and societies: mentor head of green key student ambassador program | \\\\ncaptain of varsity cross country (mvp of 2016-2017) | \\\\nvarsity track & field / lacrosse | \\\\njazz choir / contemporary acapella choir / chamber choir | \\\\nmember of california all-state honor choir and california choral leadership academy\\\\n\\\\n\\\\n\\\\n\\\\n\\\\n\\\\n\\\\n\\\\n \\\\n\\\\n\\\\n\\\\n\\\\n\\\\ngraduated with faculty honorÔºõcumulative gpa: 4.01graduated with faculty honorÔºõ\\\\ncumulative gpa: 4.01']"
      ]
     },
     "execution_count": 138,
     "metadata": {},
     "output_type": "execute_result"
    }
   ],
   "source": [
    "further_break_down(educations)\n",
    "educations"
   ]
  },
  {
   "cell_type": "code",
   "execution_count": 166,
   "id": "1335cdfd",
   "metadata": {},
   "outputs": [
    {
     "data": {
      "text/plain": [
       "['uc san diegouc san diego',\n",
       " 'bachelor of science - bs, mathematics‚Äìscientific computation and\\\\xa0political science‚Äìdata analyticsbachelor of science - bs, mathematics‚Äìscientific computation and\\\\xa0political science‚Äìdata analytics',\n",
       " '2017 - 20212017 - 2021',\n",
       " '\\\\n ',\n",
       " ' ',\n",
       " ' ',\n",
       " '\\\\nactivities and societies: pi sigma alpha (national political science honor society) | sums (society of undergraduate mathematics students) | acamazing (ucsd-based co-ed a capella group) activities and societies: pi sigma alpha (national political science honor society) | sums (society of undergraduate mathematics students) | acamazing (ucsd-based co-ed a capella group) ',\n",
       " '',\n",
       " '',\n",
       " ' ',\n",
       " '',\n",
       " 'math major gpa: 3.900;political science gpa: 4.000; cumulative gpa: 3.775graduated with cum laude;graduated with highest honor in the field of political science;arend lijphart award for best overall performance (2020 - 2021);marshall college awards 2021;marshall college citizen cord recipient; marshall college provost honor for research excellence;marshall college dimension of culture program (doc) research project contest finalist (top 1%)math major gpa: 3.900;\\\\npolitical science gpa: 4.000; \\\\ncumulative gpa: 3.775\\\\ngraduated with cum laude;\\\\ngraduated with highest honor in the field of political science;\\\\narend lijphart award for best overall performance (2020 - 2021);\\\\nmarshall college awards 2021;\\\\nmarshall college citizen cord recipient; \\\\nmarshall college provost honor for research excellence;\\\\nmarshall college dimension of culture program (doc) research project contest finalist (top 1%)',\n",
       " '',\n",
       " '',\n",
       " '',\n",
       " '',\n",
       " '',\n",
       " '',\n",
       " ' ',\n",
       " '\\\\n\\\\nsenior honors thesissenior honors thesis',\n",
       " '',\n",
       " 'attached is my senior honor thesis submitted to ucsd‚Äôs department of political science. i received highest honor and arend lijphart award for the best overall performance.attached is my senior honor thesis submitted to ucsd‚Äôs department of political science. i received highest honor and arend lijphart award for the best overall performance.',\n",
       " '']"
      ]
     },
     "execution_count": 166,
     "metadata": {},
     "output_type": "execute_result"
    }
   ],
   "source": [
    "ex_ed = section_summary(educations[1])\n",
    "ex_ed"
   ]
  },
  {
   "cell_type": "code",
   "execution_count": 169,
   "id": "aa898a90",
   "metadata": {},
   "outputs": [
    {
     "data": {
      "text/plain": [
       "'uc san diego'"
      ]
     },
     "execution_count": 169,
     "metadata": {},
     "output_type": "execute_result"
    }
   ],
   "source": [
    "same_string(ex_ed[0])"
   ]
  },
  {
   "cell_type": "code",
   "execution_count": 172,
   "id": "52c89372",
   "metadata": {},
   "outputs": [],
   "source": [
    "education_list = []\n",
    "for education in educations:\n",
    "    education_dict = {}\n",
    "    edu_list = section_summary(education)\n",
    "    education_dict['school'] = same_string(edu_list[0])\n",
    "    education_dict['degree'] = same_string(edu_list[1])\n",
    "    education_dict['time'] = same_string(edu_list[2])\n",
    "    education_list.append(education_dict)"
   ]
  },
  {
   "cell_type": "code",
   "execution_count": 173,
   "id": "a8b471e5",
   "metadata": {},
   "outputs": [
    {
     "data": {
      "text/plain": [
       "[{'school': 'university of chicago',\n",
       "  'degree': 'master of arts - ma, computational social science',\n",
       "  'time': '2021 - 2023'},\n",
       " {'school': 'uc san diego',\n",
       "  'degree': 'bachelor of science - bs, mathematics‚Äìscientific computation and\\\\xa0political science‚Äìdata analytics',\n",
       "  'time': '2017 - 2021'},\n",
       " {'school': 'stevenson school',\n",
       "  'degree': 'high school',\n",
       "  'time': '2013 - 2017'}]"
      ]
     },
     "execution_count": 173,
     "metadata": {},
     "output_type": "execute_result"
    }
   ],
   "source": [
    "education_list"
   ]
  },
  {
   "cell_type": "markdown",
   "id": "f15a86e1",
   "metadata": {},
   "source": [
    "## Try other sample"
   ]
  },
  {
   "cell_type": "code",
   "execution_count": 300,
   "id": "7b267eaa",
   "metadata": {},
   "outputs": [],
   "source": [
    "import csv\n",
    "import ast\n",
    "reader = csv.reader(open('results_verified_1.csv', 'r'))\n",
    "results = {}\n",
    "for row in reader:\n",
    "    k, v = row\n",
    "    results[k] = ast.literal_eval(v)"
   ]
  },
  {
   "cell_type": "code",
   "execution_count": 309,
   "id": "95c021cb",
   "metadata": {},
   "outputs": [],
   "source": [
    "text = results['Carl Malmstrom'][-2]"
   ]
  },
  {
   "cell_type": "code",
   "execution_count": 281,
   "id": "e533670b",
   "metadata": {},
   "outputs": [],
   "source": [
    "def further_break_down(sections):\n",
    "    for section in sections:\n",
    "        if '\\\\n\\\\n \\\\n\\\\n\\\\n\\\\n\\\\n\\\\n\\\\n\\\\n\\\\n\\\\n\\\\n\\\\n\\\\n\\\\n\\\\n\\\\n\\\\n \\\\n\\\\n\\\\n\\\\n\\\\n\\\\n\\\\n\\\\n\\\\n\\\\n' in section:\n",
    "            section_list = section.split('\\\\n\\\\n \\\\n\\\\n\\\\n\\\\n\\\\n\\\\n\\\\n\\\\n\\\\n\\\\n\\\\n\\\\n\\\\n\\\\n\\\\n\\\\n\\\\n \\\\n\\\\n\\\\n\\\\n\\\\n\\\\n\\\\n\\\\n\\\\n\\\\n')\n",
    "            sections.remove(section)\n",
    "            for sec in experience_list:\n",
    "                if 'mos' in sec or 'yr' in sec:\n",
    "                    sections.append(sec)\n",
    "def section_summary(section):\n",
    "    delimiters = '\\\\n\\\\n \\\\n\\\\n', \" ¬∑ \", \"\\\\n\\\\n\\\\n\"\n",
    "    regex_pattern = '|'.join(map(re.escape, delimiters))\n",
    "    section_detail = re.split(regex_pattern,  section)\n",
    "    return section_detail\n",
    "def same_string(test_str):\n",
    "    regex = f'{test_str[-2:]}{test_str[0:2]}'\n",
    "    match = re.search(regex, test_str)\n",
    "    if match is not None:\n",
    "        return test_str[match.end()-2:]"
   ]
  },
  {
   "cell_type": "code",
   "execution_count": 283,
   "id": "ac9e94e2",
   "metadata": {},
   "outputs": [
    {
     "data": {
      "text/plain": [
       "'\\n\\n\\n\\n\\n\\n \\n\\n\\n\\n\\n\\n\\n\\n\\n\\nyou both studied at university of chicagoyou both studied at university of chicago\\n\\n \\n\\ncarl started at university of chicago before you startedcarl started at university of chicago before you started\\n\\n \\n\\n\\n \\n\\n\\n \\n\\n\\n\\n\\n\\n\\n\\n\\n          message\\n      \\n\\n\\n\\n\\n\\n\\n\\n\\n\\n\\n\\n\\n\\n\\n\\n\\n\\n\\n\\ncarl hasn\\'t posted latelycarl hasn\\'t posted lately\\n\\n \\n\\ncarl’s recent posts and comments will be displayed here.carl’s recent posts and comments will be displayed here.\\n\\n\\n\\n\\n\\n \\n\\n \\n\\n\\n\\n\\n\\n\\n\\n \\n\\n\\n\\n\\n\\n\\n\\n\\n\\nwolf haldenstein adler freeman & herz llpwolf haldenstein adler freeman & herz llp\\n\\n \\n\\n14 yrs 7 mos14 yrs 7 mos\\n\\n\\ngreater chicago areagreater chicago area\\n\\n \\n\\n\\n \\n\\n\\n \\n\\n\\n\\n\\n\\n\\n\\n\\n\\n\\n\\n\\n\\nof counselof counsel\\n\\n \\n\\nfull-timefull-time\\n\\n\\njan 2020 - present · 3 yrs 1 mojan 2020 - present · 3 yrs 1 mo\\n\\n \\n\\n\\n \\n\\n \\n\\n\\n\\n\\n\\n\\n\\n\\n\\n\\n\\n\\n\\n\\n\\nassociateassociate\\n\\n \\n\\nfull-timefull-time\\n\\n\\njul 2011 - dec 2019 · 8 yrs 6 mosjul 2011 - dec 2019 · 8 yrs 6 mos\\n\\n \\n\\n\\n \\n\\n \\n\\n\\n\\n\\n\\n\\n\\n\\n\\n\\n\\n\\n\\n\\n\\ncontract attorneycontract attorney\\n\\n \\n \\njul 2008 - jul 2011 · 3 yrs 1 mojul 2008 - jul 2011 · 3 yrs 1 mo\\n\\n \\n\\n\\n \\n\\n \\n\\n\\n\\n\\n\\n\\n\\n\\n\\n\\n\\n\\n \\n\\n\\n\\n\\n\\n\\n\\n\\n\\nlaw clerk (traffic prosecutor)law clerk (traffic prosecutor)\\n\\n \\n\\ncity of chicago, department of lawcity of chicago, department of law\\n\\n\\njun 2006 - jul 2008 · 2 yrs 2 mosjun 2006 - jul 2008 · 2 yrs 2 mos\\n\\n\\n\\n\\n\\n \\n\\n \\n\\n\\n\\n\\n\\n\\n\\n\\n \\n\\n\\n\\n\\n\\n\\n\\n\\n\\ninternintern\\n\\n \\n\\nchristine cegelis for congresschristine cegelis for congress\\n\\n\\nsep 2005 - mar 2006 · 7 mossep 2005 - mar 2006 · 7 mos\\n\\n\\n\\n\\n\\n \\n\\n \\n\\n\\n\\n\\n\\n\\n\\n\\n \\n\\n\\n\\n\\n\\n\\n\\n\\n\\ninternintern\\n\\n \\n\\noffice of cook county commissioner larry suffredin (d-13th)office of cook county commissioner larry suffredin (d-13th)\\n\\n\\nmay 2005 - aug 2005 · 4 mosmay 2005 - aug 2005 · 4 mos\\n\\n\\n\\n\\n\\n \\n\\n \\n\\n\\n\\n\\n\\n\\n\\n\\n \\n\\n\\n\\n\\n\\n\\n\\n\\n\\ngraduate teaching assistantgraduate teaching assistant\\n\\n \\n\\nuniversity of hawaii at manoa, department of anthropologyuniversity of hawaii at manoa, department of anthropology\\n\\n\\njan 2003 - jun 2003 · 6 mosjan 2003 - jun 2003 · 6 mos\\n\\n\\n\\n\\n\\n \\n\\n \\n\\n\\n\\n\\n\\n\\n\\n \\n\\n\\n\\n\\n\\n\\n\\n\\n\\nloyola university chicago school of lawloyola university chicago school of law\\n\\n \\n\\nj.d.j.d.\\n\\n\\n2004 - 20072004 - 2007\\n\\n \\n\\n\\n \\n\\n \\n\\n\\n\\n\\n\\n\\n\\n \\n\\n\\n\\n\\n\\n\\n\\n\\n\\nuniversity of hawaii at manoauniversity of hawaii at manoa\\n\\n \\n\\nm.a., anthropologym.a., anthropology\\n\\n\\n2002 - 20042002 - 2004\\n\\n \\n\\n\\n \\n\\n \\n\\n\\n\\n\\n\\n\\n\\n \\n\\n\\n\\n\\n\\n\\n\\n\\n\\nuniversity of chicagouniversity of chicago\\n\\n \\n\\nm.a., social science (mapss)m.a., social science (mapss)\\n\\n\\n2000 - 20012000 - 2001\\n\\n \\n\\n\\n \\n\\n \\n\\n\\n\\n\\n\\n\\n\\n\\n\\n\\n\\n\\n\\nlegal researchlegal research\\n\\n \\n \\n\\n\\n \\n\\n\\n \\n\\n\\n \\n\\n\\n\\nelizabeth davis-berg has given an endorsement for this skillelizabeth davis-berg has given an endorsement for this skill\\n\\n\\n\\n\\n\\n\\n\\n\\n\\n\\n\\n\\n\\n\\n\\n\\n\\n\\n\\n\\n\\n\\n14 endorsements14 endorsements\\n\\n\\n\\n\\n\\n\\n\\n\\n\\n\\n\\n\\n\\n\\n\\n\\n\\n\\n\\n\\n\\nlegal writinglegal writing\\n\\n \\n \\n\\n\\n \\n\\n\\n \\n\\n\\n\\n\\n\\n\\n \\n\\n\\n\\n\\n\\n\\n\\n\\nendorsed by rachael \"bunny\" s. who is highly skilled at thisendorsed by rachael \"bunny\" s. who is highly skilled at this\\n\\n\\n\\n\\n\\n\\n\\n\\n\\n\\n\\n\\n \\n\\n\\n\\n\\n\\n\\n\\n\\nendorsed by 4 of your colleagues at university of chicagoendorsed by 4 of your colleagues at university of chicago\\n\\n\\n\\n\\n\\n\\n\\n\\n\\n\\n\\n\\n\\n\\n\\n\\n\\n\\n\\n\\n\\n\\n13 endorsements13 endorsements\\n\\n\\n\\n\\n\\n\\n\\n\\n\\n\\n\\n\\n\\n\\n\\n\\n\\n\\n\\n\\n\\ncourtscourts\\n\\n \\n \\n\\n\\n \\n\\n\\n \\n\\n\\n \\n\\n\\n\\nrachael \"bunny\" s. has given an endorsement for this skillrachael \"bunny\" s. has given an endorsement for this skill\\n\\n\\n\\n\\n\\n\\n\\n\\n\\n\\n\\n\\n\\n\\n\\n\\n\\n\\n\\n\\n\\n\\n6 endorsements6 endorsements\\n\\n\\n\\n\\n\\n\\n\\n\\n\\n\\n\\n\\n\\n\\n\\n\\n\\n\\n\\n\\n\\njapanesejapanese\\n\\n \\n\\n\\n\\n\\n \\n\\n \\n\\n'"
      ]
     },
     "execution_count": 283,
     "metadata": {},
     "output_type": "execute_result"
    }
   ],
   "source": [
    "text"
   ]
  },
  {
   "cell_type": "code",
   "execution_count": 284,
   "id": "185f6231",
   "metadata": {},
   "outputs": [
    {
     "ename": "IndexError",
     "evalue": "list index out of range",
     "output_type": "error",
     "traceback": [
      "\u001b[0;31m---------------------------------------------------------------------------\u001b[0m",
      "\u001b[0;31mIndexError\u001b[0m                                Traceback (most recent call last)",
      "\u001b[0;32m/var/folders/cz/nryzzqkn1vj04zyc4g0tfstm0000gq/T/ipykernel_30316/4068802980.py\u001b[0m in \u001b[0;36m<module>\u001b[0;34m\u001b[0m\n\u001b[1;32m     27\u001b[0m     \u001b[0mtarget_element\u001b[0m \u001b[0;34m=\u001b[0m \u001b[0;34m''\u001b[0m\u001b[0;34m\u001b[0m\u001b[0;34m\u001b[0m\u001b[0m\n\u001b[1;32m     28\u001b[0m     \u001b[0mexperience_dict\u001b[0m\u001b[0;34m[\u001b[0m\u001b[0;34m'position'\u001b[0m\u001b[0;34m]\u001b[0m \u001b[0;34m=\u001b[0m \u001b[0msame_string\u001b[0m\u001b[0;34m(\u001b[0m\u001b[0mexp_list\u001b[0m\u001b[0;34m[\u001b[0m\u001b[0;36m0\u001b[0m\u001b[0;34m]\u001b[0m\u001b[0;34m)\u001b[0m\u001b[0;34m\u001b[0m\u001b[0;34m\u001b[0m\u001b[0m\n\u001b[0;32m---> 29\u001b[0;31m     \u001b[0mexperience_dict\u001b[0m\u001b[0;34m[\u001b[0m\u001b[0;34m'company'\u001b[0m\u001b[0;34m]\u001b[0m \u001b[0;34m=\u001b[0m \u001b[0mexp_list\u001b[0m\u001b[0;34m[\u001b[0m\u001b[0;36m1\u001b[0m\u001b[0;34m]\u001b[0m\u001b[0;34m\u001b[0m\u001b[0;34m\u001b[0m\u001b[0m\n\u001b[0m\u001b[1;32m     30\u001b[0m     \u001b[0mexperience_dict\u001b[0m\u001b[0;34m[\u001b[0m\u001b[0;34m'time'\u001b[0m\u001b[0;34m]\u001b[0m \u001b[0;34m=\u001b[0m  \u001b[0mexp_list\u001b[0m\u001b[0;34m[\u001b[0m\u001b[0;36m4\u001b[0m\u001b[0;34m]\u001b[0m\u001b[0;34m\u001b[0m\u001b[0;34m\u001b[0m\u001b[0m\n\u001b[1;32m     31\u001b[0m     \u001b[0mexperience_dict\u001b[0m\u001b[0;34m[\u001b[0m\u001b[0;34m'description'\u001b[0m\u001b[0;34m]\u001b[0m \u001b[0;34m=\u001b[0m \u001b[0mmax\u001b[0m\u001b[0;34m(\u001b[0m\u001b[0mexp_list\u001b[0m\u001b[0;34m,\u001b[0m \u001b[0mkey\u001b[0m\u001b[0;34m=\u001b[0m\u001b[0mlen\u001b[0m\u001b[0;34m)\u001b[0m\u001b[0;34m\u001b[0m\u001b[0;34m\u001b[0m\u001b[0m\n",
      "\u001b[0;31mIndexError\u001b[0m: list index out of range"
     ]
    }
   ],
   "source": [
    "if '\\\\n\\\\n\\\\n\\\\n\\\\n\\\\n \\\\n\\\\n \\\\n\\\\n\\\\n\\\\n\\\\n\\\\n\\\\n\\\\n \\\\n\\\\n\\\\n\\\\n\\\\n\\\\n\\\\n\\\\n\\\\n\\\\n' in text:\n",
    "    text = text.split('\\\\n\\\\n\\\\n\\\\n\\\\n\\\\n \\\\n\\\\n \\\\n\\\\n\\\\n\\\\n\\\\n\\\\n\\\\n\\\\n \\\\n\\\\n\\\\n\\\\n\\\\n\\\\n\\\\n\\\\n\\\\n\\\\n')[1]\n",
    "    all_sections = text.split('\\\\n\\\\n\\\\n\\\\n\\\\n\\\\n\\\\n\\\\n\\\\n\\\\n\\\\n\\\\n\\\\n\\\\n\\\\n\\\\n\\\\n\\\\n\\\\n \\\\n\\\\n\\\\n\\\\n\\\\n\\\\n\\\\n\\\\n\\\\n\\\\n')\n",
    "else:\n",
    "    text = text.split('\\n\\n\\n\\n\\n\\n \\n\\n \\n\\n\\n\\n\\n\\n\\n\\n \\n\\n\\n\\n\\n\\n\\n\\n\\n\\n')[1:]\n",
    "    all_sections = text.split('\\n\\n \\n\\n\\n \\n\\n \\n\\n\\n\\n\\n\\n\\n\\n\\n\\n\\n\\n\\n\\n\\n\\n')\n",
    "educations = []\n",
    "experiences = []\n",
    "for section in all_sections:\n",
    "    if 'bachelor' in section or 'master' in section or 'phd' in section or 'ph.d' in section or 'j.d.' in section or 'juris doctor' in section or 'doctor of medicine' in section or 'mba' in section or 'md' in section or 'high school' in section:\n",
    "        educations.append(section)\n",
    "    elif 'show credential\\\\n' in section or '^[0-9]+$ endorsement\\\\n\\\\n\\\\n\\\\n\\\\n\\\\n\\\\n\\\\n\\\\n\\\\n' in section:\n",
    "        pass\n",
    "    else:\n",
    "        experiences.append(section)\n",
    "further_break_down(experiences)\n",
    "further_break_down(educations)\n",
    "education_list = []\n",
    "for education in educations:\n",
    "    education_dict = {}\n",
    "    edu_list = section_summary(education)\n",
    "    education_dict['school'] = same_string(edu_list[0])\n",
    "    education_dict['degree'] = same_string(edu_list[1])\n",
    "    education_dict['time'] = same_string(edu_list[2])\n",
    "    education_list.append(education_dict)\n",
    "experience_list = []\n",
    "for experience in experiences:\n",
    "    experience_dict = {}\n",
    "    exp_list = section_summary(experience)\n",
    "    target_index = 0\n",
    "    target_element = ''\n",
    "    experience_dict['position'] = same_string(exp_list[0])\n",
    "    experience_dict['company'] = exp_list[1]\n",
    "    experience_dict['time'] =  exp_list[4]\n",
    "    experience_dict['description'] = max(exp_list, key=len)\n",
    "    experience_list.append(experience_dict)"
   ]
  },
  {
   "cell_type": "code",
   "execution_count": 627,
   "id": "892de31c",
   "metadata": {
    "scrolled": false
   },
   "outputs": [
    {
     "data": {
      "text/plain": [
       "\"\\n\\n\\n\\n\\n\\n \\n\\n\\n\\n\\n\\n\\n\\n\\n\\nyou both studied at university of chicagoyou both studied at university of chicago\\n\\n \\n\\njoanna started at university of chicago before you startedjoanna started at university of chicago before you started\\n\\n \\n\\n\\n \\n\\n\\n \\n\\n\\n\\n\\n\\n\\n\\n\\n          message\\n      \\n\\n\\n\\n\\n\\n\\n\\n\\n\\n\\n\\n\\n\\n\\n\\n\\n\\n\\n\\njoanna hasn't posted latelyjoanna hasn't posted lately\\n\\n \\n\\njoanna’s recent posts and comments will be displayed here.joanna’s recent posts and comments will be displayed here.\\n\\n\\n\\n\\n\\n \\n\\n \\n\\n\\n\\n\\n\\n\\n\\n\\n \\n\\n\\n\\n\\n\\n\\n\\n\\n\\ndirectordirector\\n\\n \\n\\nparent engagement institute at logan square neighborhood associationparent engagement institute at logan square neighborhood association\\n\\n\\nsep 2014 - present · 8 yrs 5 mossep 2014 - present · 8 yrs 5 mos\\n\\n\\n2840 n. milwaukee ave., chicago, illinois2840 n. milwaukee ave., chicago, illinois\\n\\n\\n\\n\\n \\n\\n \\n\\n\\n\\n\\n\\n\\n\\n\\n \\n\\n\\n\\n\\n\\n\\n\\n\\n\\nlead education organizerlead education organizer\\n\\n \\n\\nlogan square neighborhood associationlogan square neighborhood association\\n\\n\\n1993 - sep 2014 · 21 yrs 9 mos1993 - sep 2014 · 21 yrs 9 mos\\n\\n\\n2840 n. milwaukee ave., chicago, il., 606182840 n. milwaukee ave., chicago, il., 60618\\n\\n\\n\\n\\n \\n\\n\\n \\n\\n\\n \\n\\n\\n\\n\\n\\norganize with neighborhood parents to influence schools and the school district in the best interests of the students.  this involves 8 elementary schools which collectively educate 6000+  students from mostly spanish-speaking and low-income families. lsna's foundational program is the parent mentor program which places parents mostly mothers) in classrooms as tutors, but i have also helped design and implement a variety of programs that build from parent mentors, as those parents move on to do home visits, americorps tutoring, and become teachers through grow your own teachers.organize with neighborhood parents to influence schools and the school district in the best interests of the students.  this involves 8 elementary schools which collectively educate 6000+  students from mostly spanish-speaking and low-income families.  \\nlsna's foundational program is the parent mentor program which places parents mostly mothers) in classrooms as tutors, but i have also helped design and implement a variety of programs that build from parent mentors, as those parents move on to do home visits, americorps tutoring, and become teachers through grow your own teachers.\\n\\n\\n\\n\\n\\n\\n\\n\\n\\n\\n\\n\\n\\n\\n\\n\\n\\n\\n \\n\\n\\n\\n\\n\\n\\n\\n\\n\\nuniversity of chicagouniversity of chicago\\n\\n \\n\\nmaster's degree, anthropologymaster's degree, anthropology\\n\\n\\n1994 - 19981994 - 1998\\n\\n \\n\\n\\n \\n\\n\\n \\n\\n\\n \\n\\n\\n\\n\\n\\neducation in indigenous panamaeducation in indigenous panama\\n\\n\\n\\n\\n\\n\\n\\n\\n\\n\\n\\n\\n\\n\\n\\n\\n\\n\\n \\n\\n\\n\\n\\n\\n\\n\\n\\n\\nnorthwestern universitynorthwestern university\\n\\n \\n\\nmaster's degree, journalismmaster's degree, journalism\\n\\n\\n1979 - 19801979 - 1980\\n\\n \\n\\n\\n \\n\\n \\n\\n\\n\\n\\n\\n\\n\\n\\n \\n\\n\\n\\n\\n\\n\\n\\n\\n\\nevanston township high schoolevanston township high school\\n\\n \\n \\n1965 - 19691965 - 1969\\n\\n \\n\\n\\n \\n\\n \\n\\n\\n\\n\\n\\n\\n\\n\\n\\n\\n\\n\\n\\ncommunity outreachcommunity outreach\\n\\n \\n \\n\\n\\n \\n\\n\\n \\n\\n\\n\\n\\n\\n\\n \\n\\n\\n\\n\\n\\n\\n\\n\\nendorsed by jitu brown who is highly skilled at thisendorsed by jitu brown who is highly skilled at this\\n\\n\\n\\n\\n\\n\\n\\n\\n\\n\\n\\n\\n \\n\\n\\n\\n\\n\\n\\n\\n\\nendorsed by 7 colleagues at logan square neighborhood associationendorsed by 7 colleagues at logan square neighborhood association\\n\\n\\n\\n\\n\\n\\n\\n\\n\\n\\n\\n\\n\\n\\n\\n\\n\\n\\n\\n\\n\\n\\n27 endorsements27 endorsements\\n\\n\\n\\n\\n\\n\\n\\n\\n\\n\\n\\n\\n\\n\\n\\n\\n\\n\\n\\n\\n\\nprogram developmentprogram development\\n\\n \\n \\n\\n\\n \\n\\n\\n \\n\\n\\n\\n\\n\\n\\n \\n\\n\\n\\n\\n\\n\\n\\n\\nendorsed by laura leon, mba and 4 others who are highly skilled at thisendorsed by laura leon, mba and 4 others who are highly skilled at this\\n\\n\\n\\n\\n\\n\\n\\n\\n\\n\\n\\n\\n \\n\\n\\n\\n\\n\\n\\n\\n\\nendorsed by 3 colleagues at logan square neighborhood associationendorsed by 3 colleagues at logan square neighborhood association\\n\\n\\n\\n\\n\\n\\n\\n\\n\\n\\n\\n\\n\\n\\n\\n\\n\\n\\n\\n\\n\\n\\n26 endorsements26 endorsements\\n\\n\\n\\n\\n\\n\\n\\n\\n\\n\\n\\n\\n\\n\\n\\n\\n\\n\\n\\n\\n\\ngrant writinggrant writing\\n\\n \\n \\n\\n\\n \\n\\n\\n \\n\\n\\n\\n\\n\\n\\n \\n\\n\\n\\n\\n\\n\\n\\n\\nendorsed by noah temaner jenkins and 2 others who are highly skilled at thisendorsed by noah temaner jenkins and 2 others who are highly skilled at this\\n\\n\\n\\n\\n\\n\\n\\n\\n\\n\\n\\n\\n \\n\\n\\n\\n\\n\\n\\n\\n\\nendorsed by 4 colleagues at logan square neighborhood associationendorsed by 4 colleagues at logan square neighborhood association\\n\\n\\n\\n\\n\\n\\n\\n\\n\\n\\n\\n\\n\\n\\n\\n\\n\\n\\n\\n\\n\\n\\n21 endorsements21 endorsements\\n\\n\\n\\n\\n\\n\\n\\n\\n\\n\""
      ]
     },
     "execution_count": 627,
     "metadata": {},
     "output_type": "execute_result"
    }
   ],
   "source": [
    "text = results['Joanna Doyle'][-2]\n",
    "text"
   ]
  },
  {
   "cell_type": "code",
   "execution_count": 628,
   "id": "e21a624f",
   "metadata": {},
   "outputs": [],
   "source": [
    "def edu_or_exp(all_sections):\n",
    "    educations = []\n",
    "    experiences = []\n",
    "    for section in all_sections:\n",
    "        if 'bachelor' in section or 'master' in section or 'ma, ' in section or 'phd' in section or 'ph.d' in section or 'j.d.' in section or 'juris doctor' in section or 'doctor of medicine' in section or 'mba' in section or 'md' in section or 'high school' in section:\n",
    "            educations.append(section)\n",
    "        elif 'show credential\\n' in section or 'show project\\n' in section or 'show publication\\n' in section or '^[0-9]+$ endorsement\\n' in section or '^[0-9]+$ endorsements\\n' in section or 'recent posts and comments will be displayed here' in section or 'reposted' in section:\n",
    "            pass\n",
    "        else:\n",
    "            experiences.append(section)\n",
    "    return educations, experiences\n",
    "def first_break_down(text):\n",
    "    text = text.split('\\n\\n\\n\\n\\n\\n \\n\\n \\n\\n\\n\\n\\n\\n\\n\\n \\n\\n\\n\\n\\n\\n\\n\\n\\n\\n')\n",
    "    all_sections = []\n",
    "    delimiters = \"\\n\\n\\n\\n\\n\\n \\n\\n \\n\\n\\n\\n\\n\\n\\n\\n \\n\\n\\n\\n\\n\\n\\n\\n\\n\\n\", '\\n\\n\\n\\n\\n \\n\\n \\n\\n\\n\\n\\n\\n\\n\\n \\n\\n\\n\\n\\n\\n\\n\\n\\n\\n', '\\n\\n\\n\\n\\n\\n \\n\\n\\n\\n\\n\\n\\n\\n\\n\\n'\n",
    "    regex_pattern = '|'.join(map(re.escape, delimiters))\n",
    "    for txt in text:\n",
    "        new_txt = re.split(regex_pattern, txt)\n",
    "        all_sections.extend(new_txt)\n",
    "    return all_sections\n",
    "def further_break_down(sections):\n",
    "    for section in sections:\n",
    "        if '\\n\\n\\n\\n\\n\\n\\n\\n\\n\\n\\n\\n\\n\\n\\n\\n\\n\\n\\n \\n\\n\\n\\n\\n\\n\\n\\n\\n\\n' in section:\n",
    "            section_list = section.split('\\n\\n\\n\\n\\n\\n\\n\\n\\n\\n\\n\\n\\n\\n\\n\\n\\n\\n\\n \\n\\n\\n\\n\\n\\n\\n\\n\\n\\n')\n",
    "            sections.remove(section)\n",
    "            for sec in experience_list:\n",
    "                if 'mos' in sec or 'yr' in sec:\n",
    "                    sections.append(sec)\n",
    "def same_string(test_str):\n",
    "    regex = f'{test_str[-2:]}{test_str[0:2]}'\n",
    "    match = re.search(regex, test_str)\n",
    "    if match is not None:\n",
    "        return test_str[match.end()-2:]\n",
    "def edu_list(educations):\n",
    "    education_list = []\n",
    "    for education in educations:\n",
    "        education_dict = {}\n",
    "        edu_list = section_summary(education)\n",
    "        education_dict['school'] = same_string(edu_list[0])\n",
    "        education_dict['degree'] = same_string(edu_list[1])\n",
    "        education_dict['time'] = same_string(edu_list[2])\n",
    "        education_list.append(education_dict)\n",
    "    return education_list\n",
    "def section_summary(section):\n",
    "    delimiters = '\\\\n\\\\n \\\\n\\\\n', \" ¬∑ \", \"\\\\n\\\\n\\\\n\", ' · '\n",
    "    regex_pattern = '|'.join(map(re.escape, delimiters))\n",
    "    section_detail = re.split(regex_pattern,  section)\n",
    "    return section_detail"
   ]
  },
  {
   "cell_type": "code",
   "execution_count": 629,
   "id": "6f6c30bf",
   "metadata": {},
   "outputs": [],
   "source": [
    "def section_summary(section):\n",
    "    delimiters = '\\n\\n \\n\\n', \" ¬∑ \", \"\\n\\n\\n\", \" · \"\n",
    "    regex_pattern = '|'.join(map(re.escape, delimiters))\n",
    "    section_detail = re.split(regex_pattern,  section)\n",
    "    return section_detail\n",
    "def exp_list(experiences):\n",
    "    experience_list = []\n",
    "    regexp = re.compile(r'^[0-9]+$')\n",
    "    for experience in experiences:\n",
    "        if experience != '':\n",
    "            new_experience = ''\n",
    "            experience_dict = {}\n",
    "            if \"(\" in experience:\n",
    "                new_experience = re.sub(r'\\([^)]*\\)', '', experience)\n",
    "            else:\n",
    "                new_experience = experience\n",
    "            exp_list = section_summary(new_experience)\n",
    "            while '' in exp_list: \n",
    "                exp_list.remove('')\n",
    "            while ' ' in exp_list: \n",
    "                exp_list.remove(' ')\n",
    "            while '\\n ' in exp_list: \n",
    "                exp_list.remove('\\n ')\n",
    "            if exp_list != []:\n",
    "                experience_dict['position'] = same_string(exp_list[0])\n",
    "                experience_dict['company'] = same_string(exp_list[1])\n",
    "                experience_dict['time'] =  exp_list[4]\n",
    "                experience_dict['description'] = max(exp_list, key=len)\n",
    "                experience_dict['location'] = same_string(exp_list[-1])\n",
    "                experience_list.append(experience_dict)\n",
    "                if len(experience_list) > 5:\n",
    "                    break\n",
    "    return experience_list"
   ]
  },
  {
   "cell_type": "code",
   "execution_count": 630,
   "id": "5ff2b8ee",
   "metadata": {
    "scrolled": false
   },
   "outputs": [],
   "source": [
    "all_sections = first_break_down(text)\n",
    "educations, experiences = edu_or_exp(all_sections)\n",
    "education_list = edu_list(educations)\n",
    "experience_list = exp_list(experiences)"
   ]
  },
  {
   "cell_type": "code",
   "execution_count": 631,
   "id": "b3b6308e",
   "metadata": {},
   "outputs": [
    {
     "data": {
      "text/plain": [
       "[{'school': 'university of chicago',\n",
       "  'degree': \"master's degree, anthropology\",\n",
       "  'time': '1994 - 1998'},\n",
       " {'school': 'northwestern university',\n",
       "  'degree': \"master's degree, journalism\",\n",
       "  'time': '1979 - 1980'},\n",
       " {'school': None, 'degree': None, 'time': ''}]"
      ]
     },
     "execution_count": 631,
     "metadata": {},
     "output_type": "execute_result"
    }
   ],
   "source": [
    "education_list"
   ]
  },
  {
   "cell_type": "code",
   "execution_count": 632,
   "id": "6710205e",
   "metadata": {},
   "outputs": [
    {
     "data": {
      "text/plain": [
       "[{'position': 'director',\n",
       "  'company': 'parent engagement institute at logan square neighborhood association',\n",
       "  'time': '8 yrs 5 mos',\n",
       "  'description': 'parent engagement institute at logan square neighborhood associationparent engagement institute at logan square neighborhood association',\n",
       "  'location': '2840 n. milwaukee ave., chicago, illinois'},\n",
       " {'position': 'lead education organizer',\n",
       "  'company': 'logan square neighborhood association',\n",
       "  'time': '21 yrs 9 mos',\n",
       "  'description': \"organize with neighborhood parents to influence schools and the school district in the best interests of the students.  this involves 8 elementary schools which collectively educate 6000+  students from mostly spanish-speaking and low-income families. lsna's foundational program is the parent mentor program which places parents mostly mothers) in classrooms as tutors, but i have also helped design and implement a variety of programs that build from parent mentors, as those parents move on to do home visits, americorps tutoring, and become teachers through grow your own teachers.organize with neighborhood parents to influence schools and the school district in the best interests of the students.  this involves 8 elementary schools which collectively educate 6000+  students from mostly spanish-speaking and low-income families.  \\nlsna's foundational program is the parent mentor program which places parents mostly mothers) in classrooms as tutors, but i have also helped design and implement a variety of programs that build from parent mentors, as those parents move on to do home visits, americorps tutoring, and become teachers through grow your own teachers.\",\n",
       "  'location': None}]"
      ]
     },
     "execution_count": 632,
     "metadata": {},
     "output_type": "execute_result"
    }
   ],
   "source": [
    "experience_list"
   ]
  }
 ],
 "metadata": {
  "kernelspec": {
   "display_name": "Python 3 (ipykernel)",
   "language": "python",
   "name": "python3"
  },
  "language_info": {
   "codemirror_mode": {
    "name": "ipython",
    "version": 3
   },
   "file_extension": ".py",
   "mimetype": "text/x-python",
   "name": "python",
   "nbconvert_exporter": "python",
   "pygments_lexer": "ipython3",
   "version": "3.9.7"
  }
 },
 "nbformat": 4,
 "nbformat_minor": 5
}
