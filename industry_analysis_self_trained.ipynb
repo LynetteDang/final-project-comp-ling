{
 "cells": [
  {
   "cell_type": "code",
   "execution_count": 3,
   "metadata": {},
   "outputs": [],
   "source": [
    "import pandas as pd\n",
    "import seaborn as sns \n",
    "import re\n",
    "import numpy as np\n",
    "import matplotlib.pyplot as plt\n",
    "from sklearn.feature_extraction.text import TfidfVectorizer\n",
    "from sklearn.linear_model import LogisticRegression\n",
    "from sklearn.model_selection import train_test_split\n",
    "from sklearn.model_selection import GridSearchCV\n",
    "from sklearn.pipeline import Pipeline\n",
    "from sklearn.svm import SVC\n",
    "from sklearn.naive_bayes import MultinomialNB\n",
    "from sklearn.metrics import classification_report,confusion_matrix\n",
    "from sklearn.metrics import roc_curve, auc\n",
    "from sklearn.feature_selection import SelectFromModel\n",
    "%matplotlib inline"
   ]
  },
  {
   "cell_type": "code",
   "execution_count": 115,
   "metadata": {},
   "outputs": [],
   "source": [
    "data = pd.read_csv('train_with_label.csv')"
   ]
  },
  {
   "cell_type": "code",
   "execution_count": 12,
   "metadata": {},
   "outputs": [
    {
     "data": {
      "text/html": [
       "<div>\n",
       "<style scoped>\n",
       "    .dataframe tbody tr th:only-of-type {\n",
       "        vertical-align: middle;\n",
       "    }\n",
       "\n",
       "    .dataframe tbody tr th {\n",
       "        vertical-align: top;\n",
       "    }\n",
       "\n",
       "    .dataframe thead th {\n",
       "        text-align: right;\n",
       "    }\n",
       "</style>\n",
       "<table border=\"1\" class=\"dataframe\">\n",
       "  <thead>\n",
       "    <tr style=\"text-align: right;\">\n",
       "      <th></th>\n",
       "      <th>Unnamed: 0</th>\n",
       "      <th>Id</th>\n",
       "      <th>Title</th>\n",
       "      <th>FullDescription</th>\n",
       "      <th>LocationRaw</th>\n",
       "      <th>LocationNormalized</th>\n",
       "      <th>ContractType</th>\n",
       "      <th>ContractTime</th>\n",
       "      <th>Company</th>\n",
       "      <th>Category</th>\n",
       "      <th>SalaryRaw</th>\n",
       "      <th>SalaryNormalized</th>\n",
       "      <th>SourceName</th>\n",
       "    </tr>\n",
       "  </thead>\n",
       "  <tbody>\n",
       "    <tr>\n",
       "      <th>0</th>\n",
       "      <td>0</td>\n",
       "      <td>12612628</td>\n",
       "      <td>Engineering Systems Analyst</td>\n",
       "      <td>Engineering Systems Analyst Dorking Surrey Sal...</td>\n",
       "      <td>Dorking, Surrey, Surrey</td>\n",
       "      <td>Dorking</td>\n",
       "      <td>NaN</td>\n",
       "      <td>permanent</td>\n",
       "      <td>Gregory Martin International</td>\n",
       "      <td>Technology</td>\n",
       "      <td>20000 - 30000/annum 20-30K</td>\n",
       "      <td>25000</td>\n",
       "      <td>cv-library.co.uk</td>\n",
       "    </tr>\n",
       "    <tr>\n",
       "      <th>1</th>\n",
       "      <td>1</td>\n",
       "      <td>12612830</td>\n",
       "      <td>Stress Engineer Glasgow</td>\n",
       "      <td>Stress Engineer Glasgow Salary **** to **** We...</td>\n",
       "      <td>Glasgow, Scotland, Scotland</td>\n",
       "      <td>Glasgow</td>\n",
       "      <td>NaN</td>\n",
       "      <td>permanent</td>\n",
       "      <td>Gregory Martin International</td>\n",
       "      <td>Technology</td>\n",
       "      <td>25000 - 35000/annum 25-35K</td>\n",
       "      <td>30000</td>\n",
       "      <td>cv-library.co.uk</td>\n",
       "    </tr>\n",
       "    <tr>\n",
       "      <th>2</th>\n",
       "      <td>2</td>\n",
       "      <td>12612844</td>\n",
       "      <td>Modelling and simulation analyst</td>\n",
       "      <td>Mathematical Modeller / Simulation Analyst / O...</td>\n",
       "      <td>Hampshire, South East, South East</td>\n",
       "      <td>Hampshire</td>\n",
       "      <td>NaN</td>\n",
       "      <td>permanent</td>\n",
       "      <td>Gregory Martin International</td>\n",
       "      <td>Technology</td>\n",
       "      <td>20000 - 40000/annum 20-40K</td>\n",
       "      <td>30000</td>\n",
       "      <td>cv-library.co.uk</td>\n",
       "    </tr>\n",
       "    <tr>\n",
       "      <th>3</th>\n",
       "      <td>3</td>\n",
       "      <td>12613049</td>\n",
       "      <td>Engineering Systems Analyst / Mathematical Mod...</td>\n",
       "      <td>Engineering Systems Analyst / Mathematical Mod...</td>\n",
       "      <td>Surrey, South East, South East</td>\n",
       "      <td>Surrey</td>\n",
       "      <td>NaN</td>\n",
       "      <td>permanent</td>\n",
       "      <td>Gregory Martin International</td>\n",
       "      <td>Technology</td>\n",
       "      <td>25000 - 30000/annum 25K-30K negotiable</td>\n",
       "      <td>27500</td>\n",
       "      <td>cv-library.co.uk</td>\n",
       "    </tr>\n",
       "    <tr>\n",
       "      <th>4</th>\n",
       "      <td>4</td>\n",
       "      <td>12613647</td>\n",
       "      <td>Pioneer, Miser Engineering Systems Analyst</td>\n",
       "      <td>Pioneer, Miser  Engineering Systems Analyst Do...</td>\n",
       "      <td>Surrey, South East, South East</td>\n",
       "      <td>Surrey</td>\n",
       "      <td>NaN</td>\n",
       "      <td>permanent</td>\n",
       "      <td>Gregory Martin International</td>\n",
       "      <td>Technology</td>\n",
       "      <td>20000 - 30000/annum 20-30K</td>\n",
       "      <td>25000</td>\n",
       "      <td>cv-library.co.uk</td>\n",
       "    </tr>\n",
       "  </tbody>\n",
       "</table>\n",
       "</div>"
      ],
      "text/plain": [
       "   Unnamed: 0        Id                                              Title  \\\n",
       "0           0  12612628                        Engineering Systems Analyst   \n",
       "1           1  12612830                            Stress Engineer Glasgow   \n",
       "2           2  12612844                   Modelling and simulation analyst   \n",
       "3           3  12613049  Engineering Systems Analyst / Mathematical Mod...   \n",
       "4           4  12613647         Pioneer, Miser Engineering Systems Analyst   \n",
       "\n",
       "                                     FullDescription  \\\n",
       "0  Engineering Systems Analyst Dorking Surrey Sal...   \n",
       "1  Stress Engineer Glasgow Salary **** to **** We...   \n",
       "2  Mathematical Modeller / Simulation Analyst / O...   \n",
       "3  Engineering Systems Analyst / Mathematical Mod...   \n",
       "4  Pioneer, Miser  Engineering Systems Analyst Do...   \n",
       "\n",
       "                         LocationRaw LocationNormalized ContractType  \\\n",
       "0            Dorking, Surrey, Surrey            Dorking          NaN   \n",
       "1        Glasgow, Scotland, Scotland            Glasgow          NaN   \n",
       "2  Hampshire, South East, South East          Hampshire          NaN   \n",
       "3     Surrey, South East, South East             Surrey          NaN   \n",
       "4     Surrey, South East, South East             Surrey          NaN   \n",
       "\n",
       "  ContractTime                       Company    Category  \\\n",
       "0    permanent  Gregory Martin International  Technology   \n",
       "1    permanent  Gregory Martin International  Technology   \n",
       "2    permanent  Gregory Martin International  Technology   \n",
       "3    permanent  Gregory Martin International  Technology   \n",
       "4    permanent  Gregory Martin International  Technology   \n",
       "\n",
       "                                SalaryRaw  SalaryNormalized        SourceName  \n",
       "0              20000 - 30000/annum 20-30K             25000  cv-library.co.uk  \n",
       "1              25000 - 35000/annum 25-35K             30000  cv-library.co.uk  \n",
       "2              20000 - 40000/annum 20-40K             30000  cv-library.co.uk  \n",
       "3  25000 - 30000/annum 25K-30K negotiable             27500  cv-library.co.uk  \n",
       "4              20000 - 30000/annum 20-30K             25000  cv-library.co.uk  "
      ]
     },
     "execution_count": 12,
     "metadata": {},
     "output_type": "execute_result"
    }
   ],
   "source": [
    "data.head()"
   ]
  },
  {
   "attachments": {},
   "cell_type": "markdown",
   "metadata": {},
   "source": [
    "For a typlical classification task, we could use multiple features of this dataset to actually classify the industry of a person based on a description. However, we only have access to description and title in our curated dataset amongst other features that do not overlap with this datasset. We thus choose only these two columns as features for our classification task and treat category as our outcome or label that we try to classify. "
   ]
  },
  {
   "cell_type": "code",
   "execution_count": 8,
   "metadata": {},
   "outputs": [
    {
     "data": {
      "text/plain": [
       "(244768, 13)"
      ]
     },
     "execution_count": 8,
     "metadata": {},
     "output_type": "execute_result"
    }
   ],
   "source": [
    "data.shape"
   ]
  },
  {
   "cell_type": "code",
   "execution_count": 116,
   "metadata": {},
   "outputs": [
    {
     "data": {
      "text/html": [
       "<div>\n",
       "<style scoped>\n",
       "    .dataframe tbody tr th:only-of-type {\n",
       "        vertical-align: middle;\n",
       "    }\n",
       "\n",
       "    .dataframe tbody tr th {\n",
       "        vertical-align: top;\n",
       "    }\n",
       "\n",
       "    .dataframe thead th {\n",
       "        text-align: right;\n",
       "    }\n",
       "</style>\n",
       "<table border=\"1\" class=\"dataframe\">\n",
       "  <thead>\n",
       "    <tr style=\"text-align: right;\">\n",
       "      <th></th>\n",
       "      <th>Title</th>\n",
       "      <th>FullDescription</th>\n",
       "    </tr>\n",
       "    <tr>\n",
       "      <th>Category</th>\n",
       "      <th></th>\n",
       "      <th></th>\n",
       "    </tr>\n",
       "  </thead>\n",
       "  <tbody>\n",
       "    <tr>\n",
       "      <th>Business/Finance</th>\n",
       "      <td>70494</td>\n",
       "      <td>70494</td>\n",
       "    </tr>\n",
       "    <tr>\n",
       "      <th>Charity/Volunteering</th>\n",
       "      <td>2332</td>\n",
       "      <td>2332</td>\n",
       "    </tr>\n",
       "    <tr>\n",
       "      <th>Consulting</th>\n",
       "      <td>3263</td>\n",
       "      <td>3263</td>\n",
       "    </tr>\n",
       "    <tr>\n",
       "      <th>Education/Research</th>\n",
       "      <td>15126</td>\n",
       "      <td>15126</td>\n",
       "    </tr>\n",
       "    <tr>\n",
       "      <th>Healthcare</th>\n",
       "      <td>21075</td>\n",
       "      <td>21076</td>\n",
       "    </tr>\n",
       "    <tr>\n",
       "      <th>Human Resources</th>\n",
       "      <td>7713</td>\n",
       "      <td>7713</td>\n",
       "    </tr>\n",
       "    <tr>\n",
       "      <th>Law</th>\n",
       "      <td>3939</td>\n",
       "      <td>3939</td>\n",
       "    </tr>\n",
       "    <tr>\n",
       "      <th>Others</th>\n",
       "      <td>53713</td>\n",
       "      <td>53713</td>\n",
       "    </tr>\n",
       "    <tr>\n",
       "      <th>Policy/Government/Social Work</th>\n",
       "      <td>3455</td>\n",
       "      <td>3455</td>\n",
       "    </tr>\n",
       "    <tr>\n",
       "      <th>Technology</th>\n",
       "      <td>63657</td>\n",
       "      <td>63657</td>\n",
       "    </tr>\n",
       "  </tbody>\n",
       "</table>\n",
       "</div>"
      ],
      "text/plain": [
       "                               Title  FullDescription\n",
       "Category                                             \n",
       "Business/Finance               70494  70494          \n",
       "Charity/Volunteering           2332   2332           \n",
       "Consulting                     3263   3263           \n",
       "Education/Research             15126  15126          \n",
       "Healthcare                     21075  21076          \n",
       "Human Resources                7713   7713           \n",
       "Law                            3939   3939           \n",
       "Others                         53713  53713          \n",
       "Policy/Government/Social Work  3455   3455           \n",
       "Technology                     63657  63657          "
      ]
     },
     "execution_count": 116,
     "metadata": {},
     "output_type": "execute_result"
    }
   ],
   "source": [
    "final_data = data[['Category', 'Title', 'FullDescription']]\n",
    "final_data.groupby(by = 'Category').count()"
   ]
  },
  {
   "attachments": {},
   "cell_type": "markdown",
   "metadata": {},
   "source": [
    "We can see that while Business/Finance have the most number of entries, and Charity/Volunteering has few. In order to ensure that we have a fairly equal distribution of classes and this imbalance does not affect our final task at hand, we take the class with the least number of entries (2332) and downsample the other classes to get this number. While we would lose a lot of data in doing so, it also ensures that we don't end up with a biased model for our downstream task. We can always reweigh these classes to ensure better usage of data."
   ]
  },
  {
   "cell_type": "code",
   "execution_count": 117,
   "metadata": {},
   "outputs": [],
   "source": [
    "final_data = pd.concat([final_data[final_data['Category']=='Business/Finance'].sample(n=2238),\n",
    "                        final_data[final_data['Category']=='Charity/Volunteering'].sample(n=2238),\n",
    "                final_data[final_data['Category']== 'Consulting'].sample(n=2238), \n",
    "                final_data[final_data['Category']=='Education/Research'].sample(n=2238),\n",
    "                final_data[final_data['Category']=='Healthcare'].sample(n=2238),\n",
    "                final_data[final_data['Category']=='Human Resources'].sample(n=2238),\n",
    "                final_data[final_data['Category']=='Law'].sample(n=2238),\n",
    "                final_data[final_data['Category']=='Others'].sample(n=2238),\n",
    "                final_data[final_data['Category']=='Policy/Government/Social Work'].sample(n=2238),\n",
    "                final_data[final_data['Category']=='Technology'].sample(n=2238)]\n",
    "                )"
   ]
  },
  {
   "cell_type": "code",
   "execution_count": 52,
   "metadata": {},
   "outputs": [
    {
     "data": {
      "text/html": [
       "<div>\n",
       "<style scoped>\n",
       "    .dataframe tbody tr th:only-of-type {\n",
       "        vertical-align: middle;\n",
       "    }\n",
       "\n",
       "    .dataframe tbody tr th {\n",
       "        vertical-align: top;\n",
       "    }\n",
       "\n",
       "    .dataframe thead th {\n",
       "        text-align: right;\n",
       "    }\n",
       "</style>\n",
       "<table border=\"1\" class=\"dataframe\">\n",
       "  <thead>\n",
       "    <tr style=\"text-align: right;\">\n",
       "      <th></th>\n",
       "      <th>Title</th>\n",
       "      <th>FullDescription</th>\n",
       "    </tr>\n",
       "    <tr>\n",
       "      <th>Category</th>\n",
       "      <th></th>\n",
       "      <th></th>\n",
       "    </tr>\n",
       "  </thead>\n",
       "  <tbody>\n",
       "    <tr>\n",
       "      <th>Business/Finance</th>\n",
       "      <td>2238</td>\n",
       "      <td>2238</td>\n",
       "    </tr>\n",
       "    <tr>\n",
       "      <th>Charity/Volunteering</th>\n",
       "      <td>2238</td>\n",
       "      <td>2238</td>\n",
       "    </tr>\n",
       "    <tr>\n",
       "      <th>Consulting</th>\n",
       "      <td>2238</td>\n",
       "      <td>2238</td>\n",
       "    </tr>\n",
       "    <tr>\n",
       "      <th>Education/Research</th>\n",
       "      <td>2238</td>\n",
       "      <td>2238</td>\n",
       "    </tr>\n",
       "    <tr>\n",
       "      <th>Healthcare</th>\n",
       "      <td>2238</td>\n",
       "      <td>2238</td>\n",
       "    </tr>\n",
       "    <tr>\n",
       "      <th>Human Resources</th>\n",
       "      <td>2238</td>\n",
       "      <td>2238</td>\n",
       "    </tr>\n",
       "    <tr>\n",
       "      <th>Law</th>\n",
       "      <td>2238</td>\n",
       "      <td>2238</td>\n",
       "    </tr>\n",
       "    <tr>\n",
       "      <th>Others</th>\n",
       "      <td>2238</td>\n",
       "      <td>2238</td>\n",
       "    </tr>\n",
       "    <tr>\n",
       "      <th>Policy/Government/Social Work</th>\n",
       "      <td>2238</td>\n",
       "      <td>2238</td>\n",
       "    </tr>\n",
       "    <tr>\n",
       "      <th>Technology</th>\n",
       "      <td>2238</td>\n",
       "      <td>2238</td>\n",
       "    </tr>\n",
       "  </tbody>\n",
       "</table>\n",
       "</div>"
      ],
      "text/plain": [
       "                               Title  FullDescription\n",
       "Category                                             \n",
       "Business/Finance               2238   2238           \n",
       "Charity/Volunteering           2238   2238           \n",
       "Consulting                     2238   2238           \n",
       "Education/Research             2238   2238           \n",
       "Healthcare                     2238   2238           \n",
       "Human Resources                2238   2238           \n",
       "Law                            2238   2238           \n",
       "Others                         2238   2238           \n",
       "Policy/Government/Social Work  2238   2238           \n",
       "Technology                     2238   2238           "
      ]
     },
     "execution_count": 52,
     "metadata": {},
     "output_type": "execute_result"
    }
   ],
   "source": [
    "final_data.groupby(by = 'Category').count()"
   ]
  },
  {
   "cell_type": "code",
   "execution_count": 118,
   "metadata": {},
   "outputs": [],
   "source": [
    "final_data['length'] = final_data['FullDescription'].apply(len)"
   ]
  },
  {
   "cell_type": "code",
   "execution_count": 92,
   "metadata": {},
   "outputs": [
    {
     "data": {
      "text/plain": [
       "<Figure size 14760x1440 with 0 Axes>"
      ]
     },
     "metadata": {},
     "output_type": "display_data"
    },
    {
     "data": {
      "image/png": "[encoded data removed]",
      "text/plain": [
       "<Figure size 720x720 with 12 Axes>"
      ]
     },
     "metadata": {
      "needs_background": "light"
     },
     "output_type": "display_data"
    }
   ],
   "source": [
    "\n",
    "plt.figure(figsize=(205 ,20))\n",
    "final_data.hist(column='length', by='Category',figsize=(10,10))\n",
    "plt.show()"
   ]
  },
  {
   "cell_type": "code",
   "execution_count": 11,
   "metadata": {},
   "outputs": [
    {
     "data": {
      "text/plain": [
       "Category           0\n",
       "Title              0\n",
       "FullDescription    0\n",
       "length             0\n",
       "dtype: int64"
      ]
     },
     "execution_count": 11,
     "metadata": {},
     "output_type": "execute_result"
    }
   ],
   "source": [
    "final_data.isna().sum()"
   ]
  },
  {
   "attachments": {},
   "cell_type": "markdown",
   "metadata": {},
   "source": [
    "We have no missing values! Let's take a look at what a description actually looks like!"
   ]
  },
  {
   "cell_type": "code",
   "execution_count": 93,
   "metadata": {},
   "outputs": [
    {
     "name": "stderr",
     "output_type": "stream",
     "text": [
      "/var/folders/sn/_p253mqn075638n3rt6km5l00000gn/T/ipykernel_61525/1487929974.py:1: FutureWarning: Passing a negative integer is deprecated in version 1.0 and will not be supported in future version. Instead, use None to not limit the column width.\n",
      "  pd.set_option('display.max_colwidth', -1)\n"
     ]
    },
    {
     "data": {
      "text/plain": [
       "80143    Store Manager We re making history. What part will you play? You may not be aware that GAME has recently been bought and a very exciting future lies ahead. We are investing in our key stores and bringing the best talent into the organisation to build the Number One specialist video games retailer in the UK. We are currently recruiting for a Store Manager for a fantastic GAME store in Bolton, Greater Manchester. It s an exciting place to work with a great location, with the potential to deliver fantastic results and to progress your career further. We are looking for a dynamic, inspirational Store Manager to play a key role in delivering even better results whilst maintaining a welcoming, efficient and safe environment for our customers and staff alike. About You We are looking for Store Managers, ideally with a passion for gaming, who are able to demonstrate the following: Proven track record of success in a management position within retail or a similar environment Experience in managing P s experience a truly exceptional one so they return time and time again Ability to work on own initiative and able to cope with changing priorities Self motivation and the ability to inspire change within your team & the wider business Confidence and professionalism Team Player attitiude Excellent time management skills and able to meet deadlines Calm and resilient work ethic with the ability to work well under pressure In return we will pay you a great salary, offer fantastic opportunities for development and promotion and an exciting place to work. Please note: Due to the number of applications we receive, we are not able to respond to each application individually. If you have not heard from us with 2 weeks, then please assume that your application has been unsuccessful at this time, but do not be deterred from showing your interest in future vacancies that arise\n",
       "Name: FullDescription, dtype: object"
      ]
     },
     "execution_count": 93,
     "metadata": {},
     "output_type": "execute_result"
    }
   ],
   "source": [
    "pd.set_option('display.max_colwidth', -1)\n",
    "final_data['FullDescription'].head(1)"
   ]
  },
  {
   "attachments": {},
   "cell_type": "markdown",
   "metadata": {},
   "source": [
    "Clearly, this needs to be preprocessed"
   ]
  },
  {
   "cell_type": "code",
   "execution_count": 55,
   "metadata": {},
   "outputs": [],
   "source": [
    "def clean_text(row):\n",
    "    \n",
    "    row = re.sub(r\"n\\'t\", \" not\", row)\n",
    "    row = re.sub(r\"n\\'ll\", \" will\", row)\n",
    "    row = re.sub(r\"n\\'ve\", \" have\", row)\n",
    "    row = re.sub(r\"n\\'t\", \" not\", row)\n",
    "    row = re.sub(r\"i.e\", \" \", row)\n",
    "    row = re.sub(r\"n\\'s\", \"\", row)\n",
    "    row = re.sub(\"[^a-zA-Z]\",\" \", row)\n",
    "    white_space = re.compile(r\"\\s+\")\n",
    "    row = white_space.sub(\" \", row).strip()\n",
    "    return row "
   ]
  },
  {
   "cell_type": "code",
   "execution_count": 119,
   "metadata": {},
   "outputs": [],
   "source": [
    "final_data['FullDescription'] = (final_data['FullDescription']).apply(lambda row: clean_text(row))"
   ]
  },
  {
   "cell_type": "code",
   "execution_count": 39,
   "metadata": {},
   "outputs": [
    {
     "data": {
      "text/plain": [
       "51264    My serv s have now been reta d by a member of a world leading innovat eng ering company Working closely with OEM s and end users they are market leaders supplying braking clutches and friction material products worldw The position would suit an enthusiastic skilled eng er with experience of sales and hold a minimum of ONC HND qualifications in mechanical eng ering You will be working with a well known company in an exciting and challenging role You must be able to problem solve and explain technical solutions to customers A knowledge of clutches brakes and friction material is desirable You will be working with a small team and you will be requ d to develop new bus ss whilst maximising and maintaining sales to existing customers Good communication skills are essential you must be computer l rate and a knowledge in CRM reporting procedures would be an advantage Along with the sales role you will also be responsible for planning project management and progress reporting Predominantly based from home ally you will l around the West Midlands area where the Head Off is based This opportunity within a well established manufacturer offers security career progression and product quality You can expect to rece a competit salary along with a car pension and private health cover To find out more about Huxley Associates please visit www huxley com\n",
       "Name: FullDescription, dtype: object"
      ]
     },
     "execution_count": 39,
     "metadata": {},
     "output_type": "execute_result"
    }
   ],
   "source": [
    "final_data['FullDescription'].tail(1)"
   ]
  },
  {
   "cell_type": "markdown",
   "metadata": {},
   "source": []
  },
  {
   "attachments": {},
   "cell_type": "markdown",
   "metadata": {},
   "source": [
    "## Feature representation\n",
    "We now move to feature representation of the title and description"
   ]
  },
  {
   "cell_type": "code",
   "execution_count": 122,
   "metadata": {},
   "outputs": [],
   "source": [
    "final_data.reset_index(inplace = True)"
   ]
  },
  {
   "attachments": {},
   "cell_type": "markdown",
   "metadata": {},
   "source": [
    "Since we would like to use both description and title, we concatenate them into one column and then vectorize this column to that we can convert the text to numbers that the model can understand."
   ]
  },
  {
   "cell_type": "code",
   "execution_count": 120,
   "metadata": {},
   "outputs": [],
   "source": [
    "final_data[\"concat_text\"] = final_data.FullDescription.astype(str) + final_data.Title.astype(str)"
   ]
  },
  {
   "cell_type": "code",
   "execution_count": 123,
   "metadata": {},
   "outputs": [],
   "source": [
    "stopwords = set(['i','l','my','it','off','means','if','you','husband','do','what','and','a','an'\n",
    "             'is','for','this','after','the','so','to','m', 'that','into','those','were','was',\n",
    "             'other','some','are','now','ry','at','serv','t','s','rece',\n",
    "             'in','don','adv','word','let','her','him','he','she','them','they','be','been',\n",
    "             've','some', 'such','qu','same','only','up','here','there','do','very','over',\n",
    "             'but','via','felt','who','whom','whose','where','how','about','just','most','has',\n",
    "             'had','have','way','back','front','let','flow','sun','del','your','move','got','air',\n",
    "              'breath', 'dude','know','mean','pan','means','mine','both','with','another','bit',\n",
    "              'clumps','needs','room','code','one','ones','f', 'em','as','n','cho','me','descr',\n",
    "              'pr','compet','re','could','would','should','even','r','out','their','n','ly','down',\n",
    "              'from','because','until','unless','while','its','about','all','any','few','too',\n",
    "              'own','itself','ppl','keep','really','got','AP','close'])\n",
    "\n",
    "vect = TfidfVectorizer(lowercase = True, stop_words = {'english'}.update(stopwords), max_df = .8, min_df = 3) \n",
    "X = vect.fit_transform(final_data.concat_text)\n",
    "\n",
    "y = final_data.Category"
   ]
  },
  {
   "cell_type": "code",
   "execution_count": 60,
   "metadata": {},
   "outputs": [
    {
     "name": "stdout",
     "output_type": "stream",
     "text": [
      "(22380, 18945) (22380,)\n"
     ]
    }
   ],
   "source": [
    "print(X.shape,y.shape)"
   ]
  },
  {
   "attachments": {},
   "cell_type": "markdown",
   "metadata": {},
   "source": [
    "## Logistic Regression"
   ]
  },
  {
   "cell_type": "code",
   "execution_count": 43,
   "metadata": {},
   "outputs": [],
   "source": [
    "lg = LogisticRegression() "
   ]
  },
  {
   "cell_type": "code",
   "execution_count": 124,
   "metadata": {},
   "outputs": [
    {
     "name": "stderr",
     "output_type": "stream",
     "text": [
      "/Users/pranathiiyer/opt/anaconda3/lib/python3.9/site-packages/sklearn/linear_model/_logistic.py:814: ConvergenceWarning: lbfgs failed to converge (status=1):\n",
      "STOP: TOTAL NO. of ITERATIONS REACHED LIMIT.\n",
      "\n",
      "Increase the number of iterations (max_iter) or scale the data as shown in:\n",
      "    https://scikit-learn.org/stable/modules/preprocessing.html\n",
      "Please also refer to the documentation for alternative solver options:\n",
      "    https://scikit-learn.org/stable/modules/linear_model.html#logistic-regression\n",
      "  n_iter_i = _check_optimize_result(\n"
     ]
    }
   ],
   "source": [
    "clf = LogisticRegression(penalty='l2',C = 10)\n",
    "selector = SelectFromModel(clf, max_features=4113)\n",
    "X_train_selected = selector.fit_transform(X, y)"
   ]
  },
  {
   "cell_type": "code",
   "execution_count": 107,
   "metadata": {},
   "outputs": [],
   "source": [
    "final_data = final_data.drop(columns = ['index'])"
   ]
  },
  {
   "attachments": {},
   "cell_type": "markdown",
   "metadata": {},
   "source": [
    "### Splitting data into train and test set"
   ]
  },
  {
   "cell_type": "code",
   "execution_count": 125,
   "metadata": {},
   "outputs": [
    {
     "name": "stdout",
     "output_type": "stream",
     "text": [
      "[    0     1     2 ... 22377 22378 22379]\n"
     ]
    }
   ],
   "source": [
    "print(np.arange(final_data.shape[0]))\n",
    "train_idx, test_idx = train_test_split(np.arange(final_data.shape[0]), test_size=0.4, \n",
    "                                       shuffle=True, random_state=42)\n",
    "X_train = X_train_selected[train_idx]\n",
    "Y_train = y[train_idx]\n",
    "X_test = X_train_selected[test_idx]\n",
    "Y_test = y[test_idx]"
   ]
  },
  {
   "cell_type": "code",
   "execution_count": 126,
   "metadata": {},
   "outputs": [
    {
     "name": "stderr",
     "output_type": "stream",
     "text": [
      "/Users/pranathiiyer/opt/anaconda3/lib/python3.9/site-packages/sklearn/linear_model/_logistic.py:814: ConvergenceWarning: lbfgs failed to converge (status=1):\n",
      "STOP: TOTAL NO. of ITERATIONS REACHED LIMIT.\n",
      "\n",
      "Increase the number of iterations (max_iter) or scale the data as shown in:\n",
      "    https://scikit-learn.org/stable/modules/preprocessing.html\n",
      "Please also refer to the documentation for alternative solver options:\n",
      "    https://scikit-learn.org/stable/modules/linear_model.html#logistic-regression\n",
      "  n_iter_i = _check_optimize_result(\n"
     ]
    },
    {
     "data": {
      "text/plain": [
       "LogisticRegression(C=10)"
      ]
     },
     "execution_count": 126,
     "metadata": {},
     "output_type": "execute_result"
    }
   ],
   "source": [
    "clf.fit(X_train, Y_train)"
   ]
  },
  {
   "cell_type": "code",
   "execution_count": 127,
   "metadata": {},
   "outputs": [],
   "source": [
    "y_pred = clf.predict(X_test)"
   ]
  },
  {
   "attachments": {},
   "cell_type": "markdown",
   "metadata": {},
   "source": [
    "## Looking at the performance!"
   ]
  },
  {
   "cell_type": "code",
   "execution_count": 128,
   "metadata": {},
   "outputs": [
    {
     "name": "stdout",
     "output_type": "stream",
     "text": [
      "                               precision    recall  f1-score   support\n",
      "\n",
      "             Business/Finance       0.56      0.63      0.59       866\n",
      "         Charity/Volunteering       0.75      0.74      0.74       920\n",
      "                   Consulting       0.52      0.47      0.49       907\n",
      "           Education/Research       0.78      0.76      0.77       923\n",
      "                   Healthcare       0.77      0.75      0.76       905\n",
      "              Human Resources       0.77      0.75      0.76       866\n",
      "                          Law       0.95      0.92      0.94       902\n",
      "                       Others       0.59      0.60      0.60       908\n",
      "Policy/Government/Social Work       0.71      0.73      0.72       866\n",
      "                   Technology       0.70      0.76      0.73       889\n",
      "\n",
      "                     accuracy                           0.71      8952\n",
      "                    macro avg       0.71      0.71      0.71      8952\n",
      "                 weighted avg       0.71      0.71      0.71      8952\n",
      "\n"
     ]
    }
   ],
   "source": [
    "print(classification_report(Y_test, y_pred))"
   ]
  },
  {
   "attachments": {},
   "cell_type": "markdown",
   "metadata": {},
   "source": [
    "## Naive Bayes"
   ]
  },
  {
   "cell_type": "code",
   "execution_count": 61,
   "metadata": {},
   "outputs": [],
   "source": [
    "vect = TfidfVectorizer(stop_words= {'english'}.update(stopwords))\n",
    "nb = MultinomialNB() \n",
    "vect = TfidfVectorizer(lowercase = True, stop_words = {'english'}.update(stopwords), max_df = .7, min_df = 5) \n",
    "X = vect.fit_transform(final_data.concat_text)\n",
    "y = final_data.Category"
   ]
  },
  {
   "cell_type": "code",
   "execution_count": 63,
   "metadata": {},
   "outputs": [],
   "source": [
    "train_idx, test_idx = train_test_split(np.arange(final_data.shape[0]), test_size=0.4, \n",
    "                                       shuffle=True, random_state=42)\n",
    "X_train = X[train_idx]\n",
    "Y_train = y[train_idx]\n",
    "X_test = X[test_idx]\n",
    "Y_test = y[test_idx]"
   ]
  },
  {
   "cell_type": "code",
   "execution_count": 64,
   "metadata": {},
   "outputs": [
    {
     "data": {
      "text/plain": [
       "MultinomialNB(alpha=1)"
      ]
     },
     "execution_count": 64,
     "metadata": {},
     "output_type": "execute_result"
    }
   ],
   "source": [
    "clf = MultinomialNB(alpha = 1)\n",
    "clf.fit(X_train, Y_train)"
   ]
  },
  {
   "cell_type": "code",
   "execution_count": 65,
   "metadata": {},
   "outputs": [],
   "source": [
    "y_pred = clf.predict(X_test)"
   ]
  },
  {
   "cell_type": "code",
   "execution_count": 66,
   "metadata": {},
   "outputs": [
    {
     "name": "stdout",
     "output_type": "stream",
     "text": [
      "                               precision    recall  f1-score   support\n",
      "\n",
      "             Business/Finance       0.52      0.69      0.59       866\n",
      "         Charity/Volunteering       0.75      0.69      0.72       920\n",
      "                   Consulting       0.50      0.40      0.45       907\n",
      "           Education/Research       0.81      0.74      0.77       923\n",
      "                   Healthcare       0.73      0.76      0.74       905\n",
      "              Human Resources       0.65      0.78      0.71       866\n",
      "                          Law       0.93      0.90      0.92       902\n",
      "                       Others       0.71      0.41      0.52       908\n",
      "Policy/Government/Social Work       0.64      0.70      0.67       866\n",
      "                   Technology       0.64      0.77      0.70       889\n",
      "\n",
      "                     accuracy                           0.68      8952\n",
      "                    macro avg       0.69      0.68      0.68      8952\n",
      "                 weighted avg       0.69      0.68      0.68      8952\n",
      "\n"
     ]
    }
   ],
   "source": [
    "print(classification_report(Y_test, y_pred))"
   ]
  },
  {
   "cell_type": "code",
   "execution_count": 129,
   "metadata": {},
   "outputs": [],
   "source": [
    "small_data = pd.read_csv('/Users/pranathiiyer/Downloads/exp_with_label_small.csv')"
   ]
  },
  {
   "cell_type": "code",
   "execution_count": 25,
   "metadata": {},
   "outputs": [
    {
     "data": {
      "text/html": [
       "<div>\n",
       "<style scoped>\n",
       "    .dataframe tbody tr th:only-of-type {\n",
       "        vertical-align: middle;\n",
       "    }\n",
       "\n",
       "    .dataframe tbody tr th {\n",
       "        vertical-align: top;\n",
       "    }\n",
       "\n",
       "    .dataframe thead th {\n",
       "        text-align: right;\n",
       "    }\n",
       "</style>\n",
       "<table border=\"1\" class=\"dataframe\">\n",
       "  <thead>\n",
       "    <tr style=\"text-align: right;\">\n",
       "      <th></th>\n",
       "      <th>Unnamed: 0</th>\n",
       "      <th>description</th>\n",
       "      <th>company</th>\n",
       "      <th>position</th>\n",
       "    </tr>\n",
       "    <tr>\n",
       "      <th>industry</th>\n",
       "      <th></th>\n",
       "      <th></th>\n",
       "      <th></th>\n",
       "      <th></th>\n",
       "    </tr>\n",
       "  </thead>\n",
       "  <tbody>\n",
       "    <tr>\n",
       "      <th>Business/Finance</th>\n",
       "      <td>256</td>\n",
       "      <td>256</td>\n",
       "      <td>256</td>\n",
       "      <td>256</td>\n",
       "    </tr>\n",
       "    <tr>\n",
       "      <th>Charity/Volunteering</th>\n",
       "      <td>119</td>\n",
       "      <td>119</td>\n",
       "      <td>119</td>\n",
       "      <td>119</td>\n",
       "    </tr>\n",
       "    <tr>\n",
       "      <th>Consulting</th>\n",
       "      <td>36</td>\n",
       "      <td>36</td>\n",
       "      <td>36</td>\n",
       "      <td>36</td>\n",
       "    </tr>\n",
       "    <tr>\n",
       "      <th>Education/Research</th>\n",
       "      <td>398</td>\n",
       "      <td>398</td>\n",
       "      <td>398</td>\n",
       "      <td>398</td>\n",
       "    </tr>\n",
       "    <tr>\n",
       "      <th>Healthcare</th>\n",
       "      <td>51</td>\n",
       "      <td>51</td>\n",
       "      <td>51</td>\n",
       "      <td>51</td>\n",
       "    </tr>\n",
       "    <tr>\n",
       "      <th>Human Resources</th>\n",
       "      <td>46</td>\n",
       "      <td>46</td>\n",
       "      <td>46</td>\n",
       "      <td>46</td>\n",
       "    </tr>\n",
       "    <tr>\n",
       "      <th>Law</th>\n",
       "      <td>116</td>\n",
       "      <td>116</td>\n",
       "      <td>116</td>\n",
       "      <td>116</td>\n",
       "    </tr>\n",
       "    <tr>\n",
       "      <th>Others</th>\n",
       "      <td>688</td>\n",
       "      <td>688</td>\n",
       "      <td>688</td>\n",
       "      <td>688</td>\n",
       "    </tr>\n",
       "    <tr>\n",
       "      <th>Policy/Government/Social Work</th>\n",
       "      <td>99</td>\n",
       "      <td>99</td>\n",
       "      <td>99</td>\n",
       "      <td>99</td>\n",
       "    </tr>\n",
       "    <tr>\n",
       "      <th>Technology</th>\n",
       "      <td>238</td>\n",
       "      <td>238</td>\n",
       "      <td>238</td>\n",
       "      <td>238</td>\n",
       "    </tr>\n",
       "  </tbody>\n",
       "</table>\n",
       "</div>"
      ],
      "text/plain": [
       "                               Unnamed: 0  description  company  position\n",
       "industry                                                                 \n",
       "Business/Finance               256         256          256      256     \n",
       "Charity/Volunteering           119         119          119      119     \n",
       "Consulting                     36          36           36       36      \n",
       "Education/Research             398         398          398      398     \n",
       "Healthcare                     51          51           51       51      \n",
       "Human Resources                46          46           46       46      \n",
       "Law                            116         116          116      116     \n",
       "Others                         688         688          688      688     \n",
       "Policy/Government/Social Work  99          99           99       99      \n",
       "Technology                     238         238          238      238     "
      ]
     },
     "execution_count": 25,
     "metadata": {},
     "output_type": "execute_result"
    }
   ],
   "source": [
    "\n",
    "small_data.groupby(by = 'industry').count()"
   ]
  },
  {
   "cell_type": "code",
   "execution_count": 130,
   "metadata": {},
   "outputs": [],
   "source": [
    "small_data['description'] = (small_data['description']).apply(lambda row: clean_text(row))"
   ]
  },
  {
   "cell_type": "code",
   "execution_count": 131,
   "metadata": {},
   "outputs": [],
   "source": [
    "small_data[\"concat_text\"] = small_data.description.astype(str) + small_data.position.astype(str)"
   ]
  },
  {
   "cell_type": "code",
   "execution_count": 132,
   "metadata": {},
   "outputs": [],
   "source": [
    "vect = TfidfVectorizer(lowercase = True, stop_words = {'english'}.update(stopwords), max_df = .5, min_df = 2) \n",
    "X = vect.fit_transform(small_data.concat_text)\n",
    "y = small_data.industry"
   ]
  },
  {
   "cell_type": "code",
   "execution_count": 133,
   "metadata": {},
   "outputs": [],
   "source": [
    "y_pred = clf.predict(X)"
   ]
  },
  {
   "cell_type": "code",
   "execution_count": 40,
   "metadata": {},
   "outputs": [
    {
     "name": "stdout",
     "output_type": "stream",
     "text": [
      "                               precision    recall  f1-score   support\n",
      "\n",
      "             Business/Finance       0.13      0.15      0.14       256\n",
      "         Charity/Volunteering       0.05      0.13      0.08       119\n",
      "                   Consulting       0.01      0.06      0.01        36\n",
      "           Education/Research       0.22      0.09      0.13       398\n",
      "                   Healthcare       0.00      0.00      0.00        51\n",
      "              Human Resources       0.03      0.11      0.04        46\n",
      "                          Law       0.03      0.01      0.01       116\n",
      "                       Others       0.42      0.23      0.30       688\n",
      "Policy/Government/Social Work       0.02      0.04      0.03        99\n",
      "                   Technology       0.04      0.03      0.03       238\n",
      "\n",
      "                     accuracy                           0.13      2047\n",
      "                    macro avg       0.10      0.08      0.08      2047\n",
      "                 weighted avg       0.21      0.13      0.15      2047\n",
      "\n"
     ]
    }
   ],
   "source": [
    "print(classification_report(y, y_pred))"
   ]
  },
  {
   "cell_type": "code",
   "execution_count": null,
   "metadata": {},
   "outputs": [],
   "source": []
  }
 ],
 "metadata": {
  "kernelspec": {
   "display_name": "Python 3",
   "language": "python",
   "name": "python3"
  },
  "language_info": {
   "codemirror_mode": {
    "name": "ipython",
    "version": 3
   },
   "file_extension": ".py",
   "mimetype": "text/x-python",
   "name": "python",
   "nbconvert_exporter": "python",
   "pygments_lexer": "ipython3",
   "version": "3.9.7"
  },
  "orig_nbformat": 4,
  "vscode": {
   "interpreter": {
    "hash": "66d5681e9b1a30c54e2b72bede8e639bf5aa12ed7b56d7c736beb4383827a459"
   }
  }
 },
 "nbformat": 4,
 "nbformat_minor": 2
}
